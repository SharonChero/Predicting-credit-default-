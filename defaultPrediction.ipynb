{
 "cells": [
  {
   "cell_type": "code",
   "execution_count": 5,
   "id": "fdd75366",
   "metadata": {},
   "outputs": [],
   "source": [
    "# Import the libraries and dependecies\n",
    "\n",
    "import pandas as pd\n",
    "import numpy as np\n",
    "import matplotlib.pyplot as plt\n",
    "import seaborn as sns\n",
    "import plotly.express as px\n",
    "from sklearn.model_selection import train_test_split\n",
    "from tensorflow.keras.models import Sequential, load_model\n",
    "from tensorflow.keras.layers import Dense\n",
    "from sklearn.metrics import accuracy_score"
   ]
  },
  {
   "cell_type": "code",
   "execution_count": 6,
   "id": "ff8cebbe",
   "metadata": {},
   "outputs": [],
   "source": [
    "# Import data \n",
    "filename='C:/Users/chero/Documents/personalprojects/creditcarddata.csv'\n",
    "df = pd.read_csv(filename)\n"
   ]
  },
  {
   "cell_type": "code",
   "execution_count": 7,
   "id": "9c50d35b",
   "metadata": {},
   "outputs": [
    {
     "data": {
      "text/html": [
       "<div>\n",
       "<style scoped>\n",
       "    .dataframe tbody tr th:only-of-type {\n",
       "        vertical-align: middle;\n",
       "    }\n",
       "\n",
       "    .dataframe tbody tr th {\n",
       "        vertical-align: top;\n",
       "    }\n",
       "\n",
       "    .dataframe thead th {\n",
       "        text-align: right;\n",
       "    }\n",
       "</style>\n",
       "<table border=\"1\" class=\"dataframe\">\n",
       "  <thead>\n",
       "    <tr style=\"text-align: right;\">\n",
       "      <th></th>\n",
       "      <th>ID</th>\n",
       "      <th>LIMIT_BAL</th>\n",
       "      <th>SEX</th>\n",
       "      <th>EDUCATION</th>\n",
       "      <th>MARRIAGE</th>\n",
       "      <th>AGE</th>\n",
       "      <th>PAY_0</th>\n",
       "      <th>PAY_2</th>\n",
       "      <th>PAY_3</th>\n",
       "      <th>PAY_4</th>\n",
       "      <th>...</th>\n",
       "      <th>BILL_AMT4</th>\n",
       "      <th>BILL_AMT5</th>\n",
       "      <th>BILL_AMT6</th>\n",
       "      <th>PAY_AMT1</th>\n",
       "      <th>PAY_AMT2</th>\n",
       "      <th>PAY_AMT3</th>\n",
       "      <th>PAY_AMT4</th>\n",
       "      <th>PAY_AMT5</th>\n",
       "      <th>PAY_AMT6</th>\n",
       "      <th>defaulted</th>\n",
       "    </tr>\n",
       "  </thead>\n",
       "  <tbody>\n",
       "    <tr>\n",
       "      <th>0</th>\n",
       "      <td>1</td>\n",
       "      <td>20000</td>\n",
       "      <td>2</td>\n",
       "      <td>2</td>\n",
       "      <td>1</td>\n",
       "      <td>24</td>\n",
       "      <td>2</td>\n",
       "      <td>2</td>\n",
       "      <td>-1</td>\n",
       "      <td>-1</td>\n",
       "      <td>...</td>\n",
       "      <td>0</td>\n",
       "      <td>0</td>\n",
       "      <td>0</td>\n",
       "      <td>0</td>\n",
       "      <td>689</td>\n",
       "      <td>0</td>\n",
       "      <td>0</td>\n",
       "      <td>0</td>\n",
       "      <td>0</td>\n",
       "      <td>1</td>\n",
       "    </tr>\n",
       "    <tr>\n",
       "      <th>1</th>\n",
       "      <td>2</td>\n",
       "      <td>120000</td>\n",
       "      <td>2</td>\n",
       "      <td>2</td>\n",
       "      <td>2</td>\n",
       "      <td>26</td>\n",
       "      <td>-1</td>\n",
       "      <td>2</td>\n",
       "      <td>0</td>\n",
       "      <td>0</td>\n",
       "      <td>...</td>\n",
       "      <td>3272</td>\n",
       "      <td>3455</td>\n",
       "      <td>3261</td>\n",
       "      <td>0</td>\n",
       "      <td>1000</td>\n",
       "      <td>1000</td>\n",
       "      <td>1000</td>\n",
       "      <td>0</td>\n",
       "      <td>2000</td>\n",
       "      <td>1</td>\n",
       "    </tr>\n",
       "    <tr>\n",
       "      <th>2</th>\n",
       "      <td>3</td>\n",
       "      <td>90000</td>\n",
       "      <td>2</td>\n",
       "      <td>2</td>\n",
       "      <td>2</td>\n",
       "      <td>34</td>\n",
       "      <td>0</td>\n",
       "      <td>0</td>\n",
       "      <td>0</td>\n",
       "      <td>0</td>\n",
       "      <td>...</td>\n",
       "      <td>14331</td>\n",
       "      <td>14948</td>\n",
       "      <td>15549</td>\n",
       "      <td>1518</td>\n",
       "      <td>1500</td>\n",
       "      <td>1000</td>\n",
       "      <td>1000</td>\n",
       "      <td>1000</td>\n",
       "      <td>5000</td>\n",
       "      <td>0</td>\n",
       "    </tr>\n",
       "    <tr>\n",
       "      <th>3</th>\n",
       "      <td>4</td>\n",
       "      <td>50000</td>\n",
       "      <td>2</td>\n",
       "      <td>2</td>\n",
       "      <td>1</td>\n",
       "      <td>37</td>\n",
       "      <td>0</td>\n",
       "      <td>0</td>\n",
       "      <td>0</td>\n",
       "      <td>0</td>\n",
       "      <td>...</td>\n",
       "      <td>28314</td>\n",
       "      <td>28959</td>\n",
       "      <td>29547</td>\n",
       "      <td>2000</td>\n",
       "      <td>2019</td>\n",
       "      <td>1200</td>\n",
       "      <td>1100</td>\n",
       "      <td>1069</td>\n",
       "      <td>1000</td>\n",
       "      <td>0</td>\n",
       "    </tr>\n",
       "    <tr>\n",
       "      <th>4</th>\n",
       "      <td>5</td>\n",
       "      <td>50000</td>\n",
       "      <td>1</td>\n",
       "      <td>2</td>\n",
       "      <td>1</td>\n",
       "      <td>57</td>\n",
       "      <td>-1</td>\n",
       "      <td>0</td>\n",
       "      <td>-1</td>\n",
       "      <td>0</td>\n",
       "      <td>...</td>\n",
       "      <td>20940</td>\n",
       "      <td>19146</td>\n",
       "      <td>19131</td>\n",
       "      <td>2000</td>\n",
       "      <td>36681</td>\n",
       "      <td>10000</td>\n",
       "      <td>9000</td>\n",
       "      <td>689</td>\n",
       "      <td>679</td>\n",
       "      <td>0</td>\n",
       "    </tr>\n",
       "    <tr>\n",
       "      <th>...</th>\n",
       "      <td>...</td>\n",
       "      <td>...</td>\n",
       "      <td>...</td>\n",
       "      <td>...</td>\n",
       "      <td>...</td>\n",
       "      <td>...</td>\n",
       "      <td>...</td>\n",
       "      <td>...</td>\n",
       "      <td>...</td>\n",
       "      <td>...</td>\n",
       "      <td>...</td>\n",
       "      <td>...</td>\n",
       "      <td>...</td>\n",
       "      <td>...</td>\n",
       "      <td>...</td>\n",
       "      <td>...</td>\n",
       "      <td>...</td>\n",
       "      <td>...</td>\n",
       "      <td>...</td>\n",
       "      <td>...</td>\n",
       "      <td>...</td>\n",
       "    </tr>\n",
       "    <tr>\n",
       "      <th>29995</th>\n",
       "      <td>29996</td>\n",
       "      <td>220000</td>\n",
       "      <td>1</td>\n",
       "      <td>3</td>\n",
       "      <td>1</td>\n",
       "      <td>39</td>\n",
       "      <td>0</td>\n",
       "      <td>0</td>\n",
       "      <td>0</td>\n",
       "      <td>0</td>\n",
       "      <td>...</td>\n",
       "      <td>88004</td>\n",
       "      <td>31237</td>\n",
       "      <td>15980</td>\n",
       "      <td>8500</td>\n",
       "      <td>20000</td>\n",
       "      <td>5003</td>\n",
       "      <td>3047</td>\n",
       "      <td>5000</td>\n",
       "      <td>1000</td>\n",
       "      <td>0</td>\n",
       "    </tr>\n",
       "    <tr>\n",
       "      <th>29996</th>\n",
       "      <td>29997</td>\n",
       "      <td>150000</td>\n",
       "      <td>1</td>\n",
       "      <td>3</td>\n",
       "      <td>2</td>\n",
       "      <td>43</td>\n",
       "      <td>-1</td>\n",
       "      <td>-1</td>\n",
       "      <td>-1</td>\n",
       "      <td>-1</td>\n",
       "      <td>...</td>\n",
       "      <td>8979</td>\n",
       "      <td>5190</td>\n",
       "      <td>0</td>\n",
       "      <td>1837</td>\n",
       "      <td>3526</td>\n",
       "      <td>8998</td>\n",
       "      <td>129</td>\n",
       "      <td>0</td>\n",
       "      <td>0</td>\n",
       "      <td>0</td>\n",
       "    </tr>\n",
       "    <tr>\n",
       "      <th>29997</th>\n",
       "      <td>29998</td>\n",
       "      <td>30000</td>\n",
       "      <td>1</td>\n",
       "      <td>2</td>\n",
       "      <td>2</td>\n",
       "      <td>37</td>\n",
       "      <td>4</td>\n",
       "      <td>3</td>\n",
       "      <td>2</td>\n",
       "      <td>-1</td>\n",
       "      <td>...</td>\n",
       "      <td>20878</td>\n",
       "      <td>20582</td>\n",
       "      <td>19357</td>\n",
       "      <td>0</td>\n",
       "      <td>0</td>\n",
       "      <td>22000</td>\n",
       "      <td>4200</td>\n",
       "      <td>2000</td>\n",
       "      <td>3100</td>\n",
       "      <td>1</td>\n",
       "    </tr>\n",
       "    <tr>\n",
       "      <th>29998</th>\n",
       "      <td>29999</td>\n",
       "      <td>80000</td>\n",
       "      <td>1</td>\n",
       "      <td>3</td>\n",
       "      <td>1</td>\n",
       "      <td>41</td>\n",
       "      <td>1</td>\n",
       "      <td>-1</td>\n",
       "      <td>0</td>\n",
       "      <td>0</td>\n",
       "      <td>...</td>\n",
       "      <td>52774</td>\n",
       "      <td>11855</td>\n",
       "      <td>48944</td>\n",
       "      <td>85900</td>\n",
       "      <td>3409</td>\n",
       "      <td>1178</td>\n",
       "      <td>1926</td>\n",
       "      <td>52964</td>\n",
       "      <td>1804</td>\n",
       "      <td>1</td>\n",
       "    </tr>\n",
       "    <tr>\n",
       "      <th>29999</th>\n",
       "      <td>30000</td>\n",
       "      <td>50000</td>\n",
       "      <td>1</td>\n",
       "      <td>2</td>\n",
       "      <td>1</td>\n",
       "      <td>46</td>\n",
       "      <td>0</td>\n",
       "      <td>0</td>\n",
       "      <td>0</td>\n",
       "      <td>0</td>\n",
       "      <td>...</td>\n",
       "      <td>36535</td>\n",
       "      <td>32428</td>\n",
       "      <td>15313</td>\n",
       "      <td>2078</td>\n",
       "      <td>1800</td>\n",
       "      <td>1430</td>\n",
       "      <td>1000</td>\n",
       "      <td>1000</td>\n",
       "      <td>1000</td>\n",
       "      <td>1</td>\n",
       "    </tr>\n",
       "  </tbody>\n",
       "</table>\n",
       "<p>30000 rows × 25 columns</p>\n",
       "</div>"
      ],
      "text/plain": [
       "          ID  LIMIT_BAL  SEX  EDUCATION  MARRIAGE  AGE  PAY_0  PAY_2  PAY_3  \\\n",
       "0          1      20000    2          2         1   24      2      2     -1   \n",
       "1          2     120000    2          2         2   26     -1      2      0   \n",
       "2          3      90000    2          2         2   34      0      0      0   \n",
       "3          4      50000    2          2         1   37      0      0      0   \n",
       "4          5      50000    1          2         1   57     -1      0     -1   \n",
       "...      ...        ...  ...        ...       ...  ...    ...    ...    ...   \n",
       "29995  29996     220000    1          3         1   39      0      0      0   \n",
       "29996  29997     150000    1          3         2   43     -1     -1     -1   \n",
       "29997  29998      30000    1          2         2   37      4      3      2   \n",
       "29998  29999      80000    1          3         1   41      1     -1      0   \n",
       "29999  30000      50000    1          2         1   46      0      0      0   \n",
       "\n",
       "       PAY_4  ...  BILL_AMT4  BILL_AMT5  BILL_AMT6  PAY_AMT1  PAY_AMT2  \\\n",
       "0         -1  ...          0          0          0         0       689   \n",
       "1          0  ...       3272       3455       3261         0      1000   \n",
       "2          0  ...      14331      14948      15549      1518      1500   \n",
       "3          0  ...      28314      28959      29547      2000      2019   \n",
       "4          0  ...      20940      19146      19131      2000     36681   \n",
       "...      ...  ...        ...        ...        ...       ...       ...   \n",
       "29995      0  ...      88004      31237      15980      8500     20000   \n",
       "29996     -1  ...       8979       5190          0      1837      3526   \n",
       "29997     -1  ...      20878      20582      19357         0         0   \n",
       "29998      0  ...      52774      11855      48944     85900      3409   \n",
       "29999      0  ...      36535      32428      15313      2078      1800   \n",
       "\n",
       "       PAY_AMT3  PAY_AMT4  PAY_AMT5  PAY_AMT6  defaulted  \n",
       "0             0         0         0         0          1  \n",
       "1          1000      1000         0      2000          1  \n",
       "2          1000      1000      1000      5000          0  \n",
       "3          1200      1100      1069      1000          0  \n",
       "4         10000      9000       689       679          0  \n",
       "...         ...       ...       ...       ...        ...  \n",
       "29995      5003      3047      5000      1000          0  \n",
       "29996      8998       129         0         0          0  \n",
       "29997     22000      4200      2000      3100          1  \n",
       "29998      1178      1926     52964      1804          1  \n",
       "29999      1430      1000      1000      1000          1  \n",
       "\n",
       "[30000 rows x 25 columns]"
      ]
     },
     "execution_count": 7,
     "metadata": {},
     "output_type": "execute_result"
    }
   ],
   "source": [
    "# Data Cleaning and pre-processing\n",
    "\n",
    "## skim the data \n",
    "df"
   ]
  },
  {
   "cell_type": "code",
   "execution_count": 8,
   "id": "2afbc078",
   "metadata": {},
   "outputs": [
    {
     "data": {
      "text/plain": [
       "(30000, 25)"
      ]
     },
     "execution_count": 8,
     "metadata": {},
     "output_type": "execute_result"
    }
   ],
   "source": [
    "# check the dimension of the dataset \n",
    "df.shape\n"
   ]
  },
  {
   "cell_type": "code",
   "execution_count": 9,
   "id": "3d59084e",
   "metadata": {},
   "outputs": [
    {
     "data": {
      "text/plain": [
       "ID           0\n",
       "LIMIT_BAL    0\n",
       "SEX          0\n",
       "EDUCATION    0\n",
       "MARRIAGE     0\n",
       "AGE          0\n",
       "PAY_0        0\n",
       "PAY_2        0\n",
       "PAY_3        0\n",
       "PAY_4        0\n",
       "PAY_5        0\n",
       "PAY_6        0\n",
       "BILL_AMT1    0\n",
       "BILL_AMT2    0\n",
       "BILL_AMT3    0\n",
       "BILL_AMT4    0\n",
       "BILL_AMT5    0\n",
       "BILL_AMT6    0\n",
       "PAY_AMT1     0\n",
       "PAY_AMT2     0\n",
       "PAY_AMT3     0\n",
       "PAY_AMT4     0\n",
       "PAY_AMT5     0\n",
       "PAY_AMT6     0\n",
       "defaulted    0\n",
       "dtype: int64"
      ]
     },
     "execution_count": 9,
     "metadata": {},
     "output_type": "execute_result"
    }
   ],
   "source": [
    "### check for any null values (return true if null and false is not null) and count and sum null values\n",
    "df.isnull()\n",
    "df.isnull().sum()"
   ]
  },
  {
   "cell_type": "code",
   "execution_count": 10,
   "id": "eada89e9",
   "metadata": {},
   "outputs": [
    {
     "data": {
      "text/plain": [
       "ID           int64\n",
       "LIMIT_BAL    int64\n",
       "SEX          int64\n",
       "EDUCATION    int64\n",
       "MARRIAGE     int64\n",
       "AGE          int64\n",
       "PAY_0        int64\n",
       "PAY_2        int64\n",
       "PAY_3        int64\n",
       "PAY_4        int64\n",
       "PAY_5        int64\n",
       "PAY_6        int64\n",
       "BILL_AMT1    int64\n",
       "BILL_AMT2    int64\n",
       "BILL_AMT3    int64\n",
       "BILL_AMT4    int64\n",
       "BILL_AMT5    int64\n",
       "BILL_AMT6    int64\n",
       "PAY_AMT1     int64\n",
       "PAY_AMT2     int64\n",
       "PAY_AMT3     int64\n",
       "PAY_AMT4     int64\n",
       "PAY_AMT5     int64\n",
       "PAY_AMT6     int64\n",
       "defaulted    int64\n",
       "dtype: object"
      ]
     },
     "execution_count": 10,
     "metadata": {},
     "output_type": "execute_result"
    }
   ],
   "source": [
    "### check the data types \n",
    "df.dtypes\n"
   ]
  },
  {
   "cell_type": "code",
   "execution_count": 11,
   "id": "96dcfaa0",
   "metadata": {},
   "outputs": [],
   "source": [
    "## change the following columns from interger format to categorical data\n",
    "### sex \n",
    "### education\n",
    "### marriage\n",
    "### defaulted \n",
    "### pay0-pay6\n",
    "\n",
    "df['SEX'] = df['SEX'].astype('category')\n",
    "df['EDUCATION'] = df['EDUCATION'].astype('category')\n",
    "df['MARRIAGE'] = df['MARRIAGE'].astype('category')\n",
    "df['defaulted'] = df['defaulted'].astype('category')\n",
    "df['PAY_0'] = df['PAY_0'].astype('category')\n",
    "df['PAY_2'] = df['PAY_2'].astype('category')\n",
    "df['PAY_3'] = df['PAY_3'].astype('category')\n",
    "df['PAY_4'] = df['PAY_4'].astype('category')\n",
    "df['PAY_5'] = df['PAY_5'].astype('category')\n",
    "df['PAY_6'] = df['PAY_6'].astype('category')\n"
   ]
  },
  {
   "cell_type": "code",
   "execution_count": 12,
   "id": "e748354e",
   "metadata": {},
   "outputs": [
    {
     "data": {
      "text/plain": [
       "ID              int64\n",
       "LIMIT_BAL       int64\n",
       "SEX          category\n",
       "EDUCATION    category\n",
       "MARRIAGE     category\n",
       "AGE             int64\n",
       "PAY_0        category\n",
       "PAY_2        category\n",
       "PAY_3        category\n",
       "PAY_4        category\n",
       "PAY_5        category\n",
       "PAY_6        category\n",
       "BILL_AMT1       int64\n",
       "BILL_AMT2       int64\n",
       "BILL_AMT3       int64\n",
       "BILL_AMT4       int64\n",
       "BILL_AMT5       int64\n",
       "BILL_AMT6       int64\n",
       "PAY_AMT1        int64\n",
       "PAY_AMT2        int64\n",
       "PAY_AMT3        int64\n",
       "PAY_AMT4        int64\n",
       "PAY_AMT5        int64\n",
       "PAY_AMT6        int64\n",
       "defaulted    category\n",
       "dtype: object"
      ]
     },
     "execution_count": 12,
     "metadata": {},
     "output_type": "execute_result"
    }
   ],
   "source": [
    "### checking the data types again \n",
    "df.dtypes"
   ]
  },
  {
   "cell_type": "code",
   "execution_count": 13,
   "id": "4063112f",
   "metadata": {},
   "outputs": [
    {
     "data": {
      "text/html": [
       "<div>\n",
       "<style scoped>\n",
       "    .dataframe tbody tr th:only-of-type {\n",
       "        vertical-align: middle;\n",
       "    }\n",
       "\n",
       "    .dataframe tbody tr th {\n",
       "        vertical-align: top;\n",
       "    }\n",
       "\n",
       "    .dataframe thead th {\n",
       "        text-align: right;\n",
       "    }\n",
       "</style>\n",
       "<table border=\"1\" class=\"dataframe\">\n",
       "  <thead>\n",
       "    <tr style=\"text-align: right;\">\n",
       "      <th></th>\n",
       "      <th>ID</th>\n",
       "      <th>LIMIT_BAL</th>\n",
       "      <th>AGE</th>\n",
       "      <th>BILL_AMT1</th>\n",
       "      <th>BILL_AMT2</th>\n",
       "      <th>BILL_AMT3</th>\n",
       "      <th>BILL_AMT4</th>\n",
       "      <th>BILL_AMT5</th>\n",
       "      <th>BILL_AMT6</th>\n",
       "      <th>PAY_AMT1</th>\n",
       "      <th>PAY_AMT2</th>\n",
       "      <th>PAY_AMT3</th>\n",
       "      <th>PAY_AMT4</th>\n",
       "      <th>PAY_AMT5</th>\n",
       "      <th>PAY_AMT6</th>\n",
       "    </tr>\n",
       "  </thead>\n",
       "  <tbody>\n",
       "    <tr>\n",
       "      <th>count</th>\n",
       "      <td>30000.000000</td>\n",
       "      <td>30000.000000</td>\n",
       "      <td>30000.000000</td>\n",
       "      <td>30000.000000</td>\n",
       "      <td>30000.000000</td>\n",
       "      <td>3.000000e+04</td>\n",
       "      <td>30000.000000</td>\n",
       "      <td>30000.000000</td>\n",
       "      <td>30000.000000</td>\n",
       "      <td>30000.000000</td>\n",
       "      <td>3.000000e+04</td>\n",
       "      <td>30000.00000</td>\n",
       "      <td>30000.000000</td>\n",
       "      <td>30000.000000</td>\n",
       "      <td>30000.000000</td>\n",
       "    </tr>\n",
       "    <tr>\n",
       "      <th>mean</th>\n",
       "      <td>15000.500000</td>\n",
       "      <td>167484.322667</td>\n",
       "      <td>35.485500</td>\n",
       "      <td>51223.330900</td>\n",
       "      <td>49179.075167</td>\n",
       "      <td>4.701315e+04</td>\n",
       "      <td>43262.948967</td>\n",
       "      <td>40311.400967</td>\n",
       "      <td>38871.760400</td>\n",
       "      <td>5663.580500</td>\n",
       "      <td>5.921163e+03</td>\n",
       "      <td>5225.68150</td>\n",
       "      <td>4826.076867</td>\n",
       "      <td>4799.387633</td>\n",
       "      <td>5215.502567</td>\n",
       "    </tr>\n",
       "    <tr>\n",
       "      <th>std</th>\n",
       "      <td>8660.398374</td>\n",
       "      <td>129747.661567</td>\n",
       "      <td>9.217904</td>\n",
       "      <td>73635.860576</td>\n",
       "      <td>71173.768783</td>\n",
       "      <td>6.934939e+04</td>\n",
       "      <td>64332.856134</td>\n",
       "      <td>60797.155770</td>\n",
       "      <td>59554.107537</td>\n",
       "      <td>16563.280354</td>\n",
       "      <td>2.304087e+04</td>\n",
       "      <td>17606.96147</td>\n",
       "      <td>15666.159744</td>\n",
       "      <td>15278.305679</td>\n",
       "      <td>17777.465775</td>\n",
       "    </tr>\n",
       "    <tr>\n",
       "      <th>min</th>\n",
       "      <td>1.000000</td>\n",
       "      <td>10000.000000</td>\n",
       "      <td>21.000000</td>\n",
       "      <td>-165580.000000</td>\n",
       "      <td>-69777.000000</td>\n",
       "      <td>-1.572640e+05</td>\n",
       "      <td>-170000.000000</td>\n",
       "      <td>-81334.000000</td>\n",
       "      <td>-339603.000000</td>\n",
       "      <td>0.000000</td>\n",
       "      <td>0.000000e+00</td>\n",
       "      <td>0.00000</td>\n",
       "      <td>0.000000</td>\n",
       "      <td>0.000000</td>\n",
       "      <td>0.000000</td>\n",
       "    </tr>\n",
       "    <tr>\n",
       "      <th>25%</th>\n",
       "      <td>7500.750000</td>\n",
       "      <td>50000.000000</td>\n",
       "      <td>28.000000</td>\n",
       "      <td>3558.750000</td>\n",
       "      <td>2984.750000</td>\n",
       "      <td>2.666250e+03</td>\n",
       "      <td>2326.750000</td>\n",
       "      <td>1763.000000</td>\n",
       "      <td>1256.000000</td>\n",
       "      <td>1000.000000</td>\n",
       "      <td>8.330000e+02</td>\n",
       "      <td>390.00000</td>\n",
       "      <td>296.000000</td>\n",
       "      <td>252.500000</td>\n",
       "      <td>117.750000</td>\n",
       "    </tr>\n",
       "    <tr>\n",
       "      <th>50%</th>\n",
       "      <td>15000.500000</td>\n",
       "      <td>140000.000000</td>\n",
       "      <td>34.000000</td>\n",
       "      <td>22381.500000</td>\n",
       "      <td>21200.000000</td>\n",
       "      <td>2.008850e+04</td>\n",
       "      <td>19052.000000</td>\n",
       "      <td>18104.500000</td>\n",
       "      <td>17071.000000</td>\n",
       "      <td>2100.000000</td>\n",
       "      <td>2.009000e+03</td>\n",
       "      <td>1800.00000</td>\n",
       "      <td>1500.000000</td>\n",
       "      <td>1500.000000</td>\n",
       "      <td>1500.000000</td>\n",
       "    </tr>\n",
       "    <tr>\n",
       "      <th>75%</th>\n",
       "      <td>22500.250000</td>\n",
       "      <td>240000.000000</td>\n",
       "      <td>41.000000</td>\n",
       "      <td>67091.000000</td>\n",
       "      <td>64006.250000</td>\n",
       "      <td>6.016475e+04</td>\n",
       "      <td>54506.000000</td>\n",
       "      <td>50190.500000</td>\n",
       "      <td>49198.250000</td>\n",
       "      <td>5006.000000</td>\n",
       "      <td>5.000000e+03</td>\n",
       "      <td>4505.00000</td>\n",
       "      <td>4013.250000</td>\n",
       "      <td>4031.500000</td>\n",
       "      <td>4000.000000</td>\n",
       "    </tr>\n",
       "    <tr>\n",
       "      <th>max</th>\n",
       "      <td>30000.000000</td>\n",
       "      <td>1000000.000000</td>\n",
       "      <td>79.000000</td>\n",
       "      <td>964511.000000</td>\n",
       "      <td>983931.000000</td>\n",
       "      <td>1.664089e+06</td>\n",
       "      <td>891586.000000</td>\n",
       "      <td>927171.000000</td>\n",
       "      <td>961664.000000</td>\n",
       "      <td>873552.000000</td>\n",
       "      <td>1.684259e+06</td>\n",
       "      <td>896040.00000</td>\n",
       "      <td>621000.000000</td>\n",
       "      <td>426529.000000</td>\n",
       "      <td>528666.000000</td>\n",
       "    </tr>\n",
       "  </tbody>\n",
       "</table>\n",
       "</div>"
      ],
      "text/plain": [
       "                 ID       LIMIT_BAL           AGE      BILL_AMT1  \\\n",
       "count  30000.000000    30000.000000  30000.000000   30000.000000   \n",
       "mean   15000.500000   167484.322667     35.485500   51223.330900   \n",
       "std     8660.398374   129747.661567      9.217904   73635.860576   \n",
       "min        1.000000    10000.000000     21.000000 -165580.000000   \n",
       "25%     7500.750000    50000.000000     28.000000    3558.750000   \n",
       "50%    15000.500000   140000.000000     34.000000   22381.500000   \n",
       "75%    22500.250000   240000.000000     41.000000   67091.000000   \n",
       "max    30000.000000  1000000.000000     79.000000  964511.000000   \n",
       "\n",
       "           BILL_AMT2     BILL_AMT3      BILL_AMT4      BILL_AMT5  \\\n",
       "count   30000.000000  3.000000e+04   30000.000000   30000.000000   \n",
       "mean    49179.075167  4.701315e+04   43262.948967   40311.400967   \n",
       "std     71173.768783  6.934939e+04   64332.856134   60797.155770   \n",
       "min    -69777.000000 -1.572640e+05 -170000.000000  -81334.000000   \n",
       "25%      2984.750000  2.666250e+03    2326.750000    1763.000000   \n",
       "50%     21200.000000  2.008850e+04   19052.000000   18104.500000   \n",
       "75%     64006.250000  6.016475e+04   54506.000000   50190.500000   \n",
       "max    983931.000000  1.664089e+06  891586.000000  927171.000000   \n",
       "\n",
       "           BILL_AMT6       PAY_AMT1      PAY_AMT2      PAY_AMT3  \\\n",
       "count   30000.000000   30000.000000  3.000000e+04   30000.00000   \n",
       "mean    38871.760400    5663.580500  5.921163e+03    5225.68150   \n",
       "std     59554.107537   16563.280354  2.304087e+04   17606.96147   \n",
       "min   -339603.000000       0.000000  0.000000e+00       0.00000   \n",
       "25%      1256.000000    1000.000000  8.330000e+02     390.00000   \n",
       "50%     17071.000000    2100.000000  2.009000e+03    1800.00000   \n",
       "75%     49198.250000    5006.000000  5.000000e+03    4505.00000   \n",
       "max    961664.000000  873552.000000  1.684259e+06  896040.00000   \n",
       "\n",
       "            PAY_AMT4       PAY_AMT5       PAY_AMT6  \n",
       "count   30000.000000   30000.000000   30000.000000  \n",
       "mean     4826.076867    4799.387633    5215.502567  \n",
       "std     15666.159744   15278.305679   17777.465775  \n",
       "min         0.000000       0.000000       0.000000  \n",
       "25%       296.000000     252.500000     117.750000  \n",
       "50%      1500.000000    1500.000000    1500.000000  \n",
       "75%      4013.250000    4031.500000    4000.000000  \n",
       "max    621000.000000  426529.000000  528666.000000  "
      ]
     },
     "execution_count": 13,
     "metadata": {},
     "output_type": "execute_result"
    }
   ],
   "source": [
    "## description of the continous data\n",
    "df.describe()"
   ]
  },
  {
   "cell_type": "code",
   "execution_count": 14,
   "id": "c22d6b89",
   "metadata": {},
   "outputs": [
    {
     "data": {
      "text/html": [
       "<div>\n",
       "<style scoped>\n",
       "    .dataframe tbody tr th:only-of-type {\n",
       "        vertical-align: middle;\n",
       "    }\n",
       "\n",
       "    .dataframe tbody tr th {\n",
       "        vertical-align: top;\n",
       "    }\n",
       "\n",
       "    .dataframe thead th {\n",
       "        text-align: right;\n",
       "    }\n",
       "</style>\n",
       "<table border=\"1\" class=\"dataframe\">\n",
       "  <thead>\n",
       "    <tr style=\"text-align: right;\">\n",
       "      <th></th>\n",
       "      <th>SEX</th>\n",
       "      <th>EDUCATION</th>\n",
       "      <th>MARRIAGE</th>\n",
       "      <th>PAY_0</th>\n",
       "      <th>PAY_2</th>\n",
       "      <th>PAY_3</th>\n",
       "      <th>PAY_4</th>\n",
       "      <th>PAY_5</th>\n",
       "      <th>PAY_6</th>\n",
       "      <th>defaulted</th>\n",
       "    </tr>\n",
       "  </thead>\n",
       "  <tbody>\n",
       "    <tr>\n",
       "      <th>count</th>\n",
       "      <td>30000</td>\n",
       "      <td>30000</td>\n",
       "      <td>30000</td>\n",
       "      <td>30000</td>\n",
       "      <td>30000</td>\n",
       "      <td>30000</td>\n",
       "      <td>30000</td>\n",
       "      <td>30000</td>\n",
       "      <td>30000</td>\n",
       "      <td>30000</td>\n",
       "    </tr>\n",
       "    <tr>\n",
       "      <th>unique</th>\n",
       "      <td>2</td>\n",
       "      <td>7</td>\n",
       "      <td>4</td>\n",
       "      <td>11</td>\n",
       "      <td>11</td>\n",
       "      <td>11</td>\n",
       "      <td>11</td>\n",
       "      <td>10</td>\n",
       "      <td>10</td>\n",
       "      <td>2</td>\n",
       "    </tr>\n",
       "    <tr>\n",
       "      <th>top</th>\n",
       "      <td>2</td>\n",
       "      <td>2</td>\n",
       "      <td>2</td>\n",
       "      <td>0</td>\n",
       "      <td>0</td>\n",
       "      <td>0</td>\n",
       "      <td>0</td>\n",
       "      <td>0</td>\n",
       "      <td>0</td>\n",
       "      <td>0</td>\n",
       "    </tr>\n",
       "    <tr>\n",
       "      <th>freq</th>\n",
       "      <td>18112</td>\n",
       "      <td>14030</td>\n",
       "      <td>15964</td>\n",
       "      <td>14737</td>\n",
       "      <td>15730</td>\n",
       "      <td>15764</td>\n",
       "      <td>16455</td>\n",
       "      <td>16947</td>\n",
       "      <td>16286</td>\n",
       "      <td>23364</td>\n",
       "    </tr>\n",
       "  </tbody>\n",
       "</table>\n",
       "</div>"
      ],
      "text/plain": [
       "          SEX  EDUCATION  MARRIAGE  PAY_0  PAY_2  PAY_3  PAY_4  PAY_5  PAY_6  \\\n",
       "count   30000      30000     30000  30000  30000  30000  30000  30000  30000   \n",
       "unique      2          7         4     11     11     11     11     10     10   \n",
       "top         2          2         2      0      0      0      0      0      0   \n",
       "freq    18112      14030     15964  14737  15730  15764  16455  16947  16286   \n",
       "\n",
       "        defaulted  \n",
       "count       30000  \n",
       "unique          2  \n",
       "top             0  \n",
       "freq        23364  "
      ]
     },
     "execution_count": 14,
     "metadata": {},
     "output_type": "execute_result"
    }
   ],
   "source": [
    "## descrription of the categorial data \n",
    "df.describe(include='category')"
   ]
  },
  {
   "cell_type": "code",
   "execution_count": 15,
   "id": "141e0107",
   "metadata": {},
   "outputs": [
    {
     "name": "stdout",
     "output_type": "stream",
     "text": [
      "Index(['ID', 'LIMIT_BAL', 'AGE', 'BILL_AMT1', 'BILL_AMT2', 'BILL_AMT3',\n",
      "       'BILL_AMT4', 'BILL_AMT5', 'BILL_AMT6', 'PAY_AMT1', 'PAY_AMT2',\n",
      "       'PAY_AMT3', 'PAY_AMT4', 'PAY_AMT5', 'PAY_AMT6'],\n",
      "      dtype='object')\n"
     ]
    }
   ],
   "source": [
    "continuous=df.select_dtypes(['int64','float64']).columns\n",
    "print(continuous)\n"
   ]
  },
  {
   "cell_type": "code",
   "execution_count": 16,
   "id": "17ad4216",
   "metadata": {},
   "outputs": [],
   "source": [
    "## Data visualization : Identifying outliers \n",
    "\n",
    "#In the project, we can drop the unwanted variable columns and create box plots to note any possible outliers. We need need the Payment and billing variables for september 2005 \n",
    "\n",
    "df.drop('ID', axis=1, inplace=True)\n",
    "df.drop('BILL_AMT2', axis=1, inplace=True)\n",
    "df.drop('BILL_AMT3', axis=1, inplace=True)\n",
    "df.drop('BILL_AMT4', axis=1, inplace=True)\n",
    "df.drop('BILL_AMT5', axis=1, inplace=True)\n",
    "df.drop('BILL_AMT6', axis=1, inplace=True)\n",
    "df.drop('PAY_AMT2', axis=1, inplace=True)\n",
    "df.drop('PAY_AMT3', axis=1, inplace=True)\n",
    "df.drop('PAY_AMT4', axis=1, inplace=True)\n",
    "df.drop('PAY_AMT5', axis=1, inplace=True)\n",
    "df.drop('PAY_AMT6', axis=1, inplace=True)\n",
    "df.drop('PAY_2', axis=1, inplace=True)\n",
    "df.drop('PAY_3', axis=1, inplace=True)\n",
    "df.drop('PAY_4', axis=1, inplace=True)\n",
    "df.drop('PAY_5', axis=1, inplace=True)\n",
    "df.drop('PAY_6', axis=1, inplace=True)\n"
   ]
  },
  {
   "cell_type": "code",
   "execution_count": 17,
   "id": "341ea20e",
   "metadata": {},
   "outputs": [
    {
     "data": {
      "text/plain": [
       "Index(['LIMIT_BAL', 'AGE', 'BILL_AMT1', 'PAY_AMT1'], dtype='object')"
      ]
     },
     "execution_count": 17,
     "metadata": {},
     "output_type": "execute_result"
    }
   ],
   "source": [
    "## select the continous data columns \n",
    "continuous=df.select_dtypes(['int64','float64']).columns\n",
    "continuous\n"
   ]
  },
  {
   "cell_type": "code",
   "execution_count": 18,
   "id": "f87bc011",
   "metadata": {},
   "outputs": [
    {
     "data": {
      "image/png": "[encoded data removed]",
      "text/plain": [
       "<Figure size 432x288 with 1 Axes>"
      ]
     },
     "metadata": {
      "needs_background": "light"
     },
     "output_type": "display_data"
    }
   ],
   "source": [
    "## create box plots for the continous variables \n",
    "## Judging from the box plots, there seem to be no evidence of outliers in the \n",
    "   ##data provided for the month of septe,ber.\n",
    "continousData = pd.DataFrame(data = np.random.random(size=(4,4)), columns = ['LIMIT_BAL','AGE','BILL_AMT1','PAY_AMT1'])\n",
    "\n",
    "sns.boxplot(x=\"variable\", y=\"value\", data=pd.melt(continousData))\n",
    "\n",
    "plt.show()"
   ]
  },
  {
   "cell_type": "code",
   "execution_count": 19,
   "id": "5326058c",
   "metadata": {},
   "outputs": [
    {
     "data": {
      "image/png": "[encoded data removed]",
      "text/plain": [
       "<Figure size 1080x5040 with 4 Axes>"
      ]
     },
     "metadata": {
      "needs_background": "light"
     },
     "output_type": "display_data"
    }
   ],
   "source": [
    "fig,axes= plt.subplots(nrows=len(continuous), figsize=(15,70))\n",
    "for i,var in enumerate(continuous):\n",
    "    sns.histplot(data=df, x=df[continuous[i]], bins=50, ax=axes[i], kde=True,\\\n",
    "                 hue='defaulted', palette='Set1', alpha=0.3)\n",
    "plt.show()"
   ]
  },
  {
   "cell_type": "code",
   "execution_count": 20,
   "id": "8b3c2b9f",
   "metadata": {},
   "outputs": [
    {
     "name": "stderr",
     "output_type": "stream",
     "text": [
      "c:\\users\\chero\\appdata\\local\\programs\\python\\python39\\lib\\site-packages\\seaborn\\_decorators.py:36: FutureWarning:\n",
      "\n",
      "Pass the following variable as a keyword arg: x. From version 0.12, the only valid positional argument will be `data`, and passing other arguments without an explicit keyword will result in an error or misinterpretation.\n",
      "\n",
      "c:\\users\\chero\\appdata\\local\\programs\\python\\python39\\lib\\site-packages\\seaborn\\_decorators.py:36: FutureWarning:\n",
      "\n",
      "Pass the following variable as a keyword arg: x. From version 0.12, the only valid positional argument will be `data`, and passing other arguments without an explicit keyword will result in an error or misinterpretation.\n",
      "\n",
      "c:\\users\\chero\\appdata\\local\\programs\\python\\python39\\lib\\site-packages\\seaborn\\_decorators.py:36: FutureWarning:\n",
      "\n",
      "Pass the following variable as a keyword arg: x. From version 0.12, the only valid positional argument will be `data`, and passing other arguments without an explicit keyword will result in an error or misinterpretation.\n",
      "\n",
      "c:\\users\\chero\\appdata\\local\\programs\\python\\python39\\lib\\site-packages\\seaborn\\_decorators.py:36: FutureWarning:\n",
      "\n",
      "Pass the following variable as a keyword arg: x. From version 0.12, the only valid positional argument will be `data`, and passing other arguments without an explicit keyword will result in an error or misinterpretation.\n",
      "\n"
     ]
    },
    {
     "data": {
      "image/png": "[encoded data removed]",
      "text/plain": [
       "<Figure size 1080x5040 with 8 Axes>"
      ]
     },
     "metadata": {
      "needs_background": "light"
     },
     "output_type": "display_data"
    }
   ],
   "source": [
    "## Visualizing the categorical variables \n",
    "categorical=df.iloc[:,(df.nunique()<=11).values].columns\n",
    "df[categorical]=df[categorical].astype('category')\n",
    "fig,axes= plt.subplots(nrows=len(categorical[:-1]), ncols=2, figsize=(15,70))\n",
    "for i,var in enumerate(categorical[:-1]):\n",
    "    sns.countplot(df[categorical[i]], ax=axes[i][0])\n",
    "\n",
    "    pd.crosstab(df[var], df['defaulted'], normalize='index').plot(kind='bar', stacked=True, ax=axes[i][1])\n",
    "    plt.xticks(rotation=0)\n",
    "plt.show()"
   ]
  },
  {
   "cell_type": "code",
   "execution_count": 21,
   "id": "d528c621",
   "metadata": {},
   "outputs": [
    {
     "data": {
      "application/vnd.plotly.v1+json": {
       "config": {
        "plotlyServerURL": "https://plot.ly"
       },
       "data": [
        {
         "coloraxis": "coloraxis",
         "hovertemplate": "x: %{x}<br>y: %{y}<br>color: %{z}<extra></extra>",
         "name": "0",
         "type": "heatmap",
         "x": [
          "LIMIT_BAL",
          "AGE",
          "BILL_AMT1",
          "PAY_AMT1"
         ],
         "xaxis": "x",
         "y": [
          "LIMIT_BAL",
          "AGE",
          "BILL_AMT1",
          "PAY_AMT1"
         ],
         "yaxis": "y",
         "z": [
          [
           1,
           0.14471279755733674,
           0.28542986496498995,
           0.1952359152322094
          ],
          [
           0.14471279755733674,
           1,
           0.05623853326056659,
           0.026146679056989194
          ],
          [
           0.28542986496498995,
           0.05623853326056659,
           1,
           0.14027727757532418
          ],
          [
           0.1952359152322094,
           0.026146679056989194,
           0.14027727757532418,
           1
          ]
         ]
        }
       ],
       "layout": {
        "coloraxis": {
         "colorscale": [
          [
           0,
           "#0d0887"
          ],
          [
           0.1111111111111111,
           "#46039f"
          ],
          [
           0.2222222222222222,
           "#7201a8"
          ],
          [
           0.3333333333333333,
           "#9c179e"
          ],
          [
           0.4444444444444444,
           "#bd3786"
          ],
          [
           0.5555555555555556,
           "#d8576b"
          ],
          [
           0.6666666666666666,
           "#ed7953"
          ],
          [
           0.7777777777777778,
           "#fb9f3a"
          ],
          [
           0.8888888888888888,
           "#fdca26"
          ],
          [
           1,
           "#f0f921"
          ]
         ]
        },
        "margin": {
         "t": 60
        },
        "template": {
         "data": {
          "bar": [
           {
            "error_x": {
             "color": "#2a3f5f"
            },
            "error_y": {
             "color": "#2a3f5f"
            },
            "marker": {
             "line": {
              "color": "#E5ECF6",
              "width": 0.5
             },
             "pattern": {
              "fillmode": "overlay",
              "size": 10,
              "solidity": 0.2
             }
            },
            "type": "bar"
           }
          ],
          "barpolar": [
           {
            "marker": {
             "line": {
              "color": "#E5ECF6",
              "width": 0.5
             },
             "pattern": {
              "fillmode": "overlay",
              "size": 10,
              "solidity": 0.2
             }
            },
            "type": "barpolar"
           }
          ],
          "carpet": [
           {
            "aaxis": {
             "endlinecolor": "#2a3f5f",
             "gridcolor": "white",
             "linecolor": "white",
             "minorgridcolor": "white",
             "startlinecolor": "#2a3f5f"
            },
            "baxis": {
             "endlinecolor": "#2a3f5f",
             "gridcolor": "white",
             "linecolor": "white",
             "minorgridcolor": "white",
             "startlinecolor": "#2a3f5f"
            },
            "type": "carpet"
           }
          ],
          "choropleth": [
           {
            "colorbar": {
             "outlinewidth": 0,
             "ticks": ""
            },
            "type": "choropleth"
           }
          ],
          "contour": [
           {
            "colorbar": {
             "outlinewidth": 0,
             "ticks": ""
            },
            "colorscale": [
             [
              0,
              "#0d0887"
             ],
             [
              0.1111111111111111,
              "#46039f"
             ],
             [
              0.2222222222222222,
              "#7201a8"
             ],
             [
              0.3333333333333333,
              "#9c179e"
             ],
             [
              0.4444444444444444,
              "#bd3786"
             ],
             [
              0.5555555555555556,
              "#d8576b"
             ],
             [
              0.6666666666666666,
              "#ed7953"
             ],
             [
              0.7777777777777778,
              "#fb9f3a"
             ],
             [
              0.8888888888888888,
              "#fdca26"
             ],
             [
              1,
              "#f0f921"
             ]
            ],
            "type": "contour"
           }
          ],
          "contourcarpet": [
           {
            "colorbar": {
             "outlinewidth": 0,
             "ticks": ""
            },
            "type": "contourcarpet"
           }
          ],
          "heatmap": [
           {
            "colorbar": {
             "outlinewidth": 0,
             "ticks": ""
            },
            "colorscale": [
             [
              0,
              "#0d0887"
             ],
             [
              0.1111111111111111,
              "#46039f"
             ],
             [
              0.2222222222222222,
              "#7201a8"
             ],
             [
              0.3333333333333333,
              "#9c179e"
             ],
             [
              0.4444444444444444,
              "#bd3786"
             ],
             [
              0.5555555555555556,
              "#d8576b"
             ],
             [
              0.6666666666666666,
              "#ed7953"
             ],
             [
              0.7777777777777778,
              "#fb9f3a"
             ],
             [
              0.8888888888888888,
              "#fdca26"
             ],
             [
              1,
              "#f0f921"
             ]
            ],
            "type": "heatmap"
           }
          ],
          "heatmapgl": [
           {
            "colorbar": {
             "outlinewidth": 0,
             "ticks": ""
            },
            "colorscale": [
             [
              0,
              "#0d0887"
             ],
             [
              0.1111111111111111,
              "#46039f"
             ],
             [
              0.2222222222222222,
              "#7201a8"
             ],
             [
              0.3333333333333333,
              "#9c179e"
             ],
             [
              0.4444444444444444,
              "#bd3786"
             ],
             [
              0.5555555555555556,
              "#d8576b"
             ],
             [
              0.6666666666666666,
              "#ed7953"
             ],
             [
              0.7777777777777778,
              "#fb9f3a"
             ],
             [
              0.8888888888888888,
              "#fdca26"
             ],
             [
              1,
              "#f0f921"
             ]
            ],
            "type": "heatmapgl"
           }
          ],
          "histogram": [
           {
            "marker": {
             "pattern": {
              "fillmode": "overlay",
              "size": 10,
              "solidity": 0.2
             }
            },
            "type": "histogram"
           }
          ],
          "histogram2d": [
           {
            "colorbar": {
             "outlinewidth": 0,
             "ticks": ""
            },
            "colorscale": [
             [
              0,
              "#0d0887"
             ],
             [
              0.1111111111111111,
              "#46039f"
             ],
             [
              0.2222222222222222,
              "#7201a8"
             ],
             [
              0.3333333333333333,
              "#9c179e"
             ],
             [
              0.4444444444444444,
              "#bd3786"
             ],
             [
              0.5555555555555556,
              "#d8576b"
             ],
             [
              0.6666666666666666,
              "#ed7953"
             ],
             [
              0.7777777777777778,
              "#fb9f3a"
             ],
             [
              0.8888888888888888,
              "#fdca26"
             ],
             [
              1,
              "#f0f921"
             ]
            ],
            "type": "histogram2d"
           }
          ],
          "histogram2dcontour": [
           {
            "colorbar": {
             "outlinewidth": 0,
             "ticks": ""
            },
            "colorscale": [
             [
              0,
              "#0d0887"
             ],
             [
              0.1111111111111111,
              "#46039f"
             ],
             [
              0.2222222222222222,
              "#7201a8"
             ],
             [
              0.3333333333333333,
              "#9c179e"
             ],
             [
              0.4444444444444444,
              "#bd3786"
             ],
             [
              0.5555555555555556,
              "#d8576b"
             ],
             [
              0.6666666666666666,
              "#ed7953"
             ],
             [
              0.7777777777777778,
              "#fb9f3a"
             ],
             [
              0.8888888888888888,
              "#fdca26"
             ],
             [
              1,
              "#f0f921"
             ]
            ],
            "type": "histogram2dcontour"
           }
          ],
          "mesh3d": [
           {
            "colorbar": {
             "outlinewidth": 0,
             "ticks": ""
            },
            "type": "mesh3d"
           }
          ],
          "parcoords": [
           {
            "line": {
             "colorbar": {
              "outlinewidth": 0,
              "ticks": ""
             }
            },
            "type": "parcoords"
           }
          ],
          "pie": [
           {
            "automargin": true,
            "type": "pie"
           }
          ],
          "scatter": [
           {
            "marker": {
             "colorbar": {
              "outlinewidth": 0,
              "ticks": ""
             }
            },
            "type": "scatter"
           }
          ],
          "scatter3d": [
           {
            "line": {
             "colorbar": {
              "outlinewidth": 0,
              "ticks": ""
             }
            },
            "marker": {
             "colorbar": {
              "outlinewidth": 0,
              "ticks": ""
             }
            },
            "type": "scatter3d"
           }
          ],
          "scattercarpet": [
           {
            "marker": {
             "colorbar": {
              "outlinewidth": 0,
              "ticks": ""
             }
            },
            "type": "scattercarpet"
           }
          ],
          "scattergeo": [
           {
            "marker": {
             "colorbar": {
              "outlinewidth": 0,
              "ticks": ""
             }
            },
            "type": "scattergeo"
           }
          ],
          "scattergl": [
           {
            "marker": {
             "colorbar": {
              "outlinewidth": 0,
              "ticks": ""
             }
            },
            "type": "scattergl"
           }
          ],
          "scattermapbox": [
           {
            "marker": {
             "colorbar": {
              "outlinewidth": 0,
              "ticks": ""
             }
            },
            "type": "scattermapbox"
           }
          ],
          "scatterpolar": [
           {
            "marker": {
             "colorbar": {
              "outlinewidth": 0,
              "ticks": ""
             }
            },
            "type": "scatterpolar"
           }
          ],
          "scatterpolargl": [
           {
            "marker": {
             "colorbar": {
              "outlinewidth": 0,
              "ticks": ""
             }
            },
            "type": "scatterpolargl"
           }
          ],
          "scatterternary": [
           {
            "marker": {
             "colorbar": {
              "outlinewidth": 0,
              "ticks": ""
             }
            },
            "type": "scatterternary"
           }
          ],
          "surface": [
           {
            "colorbar": {
             "outlinewidth": 0,
             "ticks": ""
            },
            "colorscale": [
             [
              0,
              "#0d0887"
             ],
             [
              0.1111111111111111,
              "#46039f"
             ],
             [
              0.2222222222222222,
              "#7201a8"
             ],
             [
              0.3333333333333333,
              "#9c179e"
             ],
             [
              0.4444444444444444,
              "#bd3786"
             ],
             [
              0.5555555555555556,
              "#d8576b"
             ],
             [
              0.6666666666666666,
              "#ed7953"
             ],
             [
              0.7777777777777778,
              "#fb9f3a"
             ],
             [
              0.8888888888888888,
              "#fdca26"
             ],
             [
              1,
              "#f0f921"
             ]
            ],
            "type": "surface"
           }
          ],
          "table": [
           {
            "cells": {
             "fill": {
              "color": "#EBF0F8"
             },
             "line": {
              "color": "white"
             }
            },
            "header": {
             "fill": {
              "color": "#C8D4E3"
             },
             "line": {
              "color": "white"
             }
            },
            "type": "table"
           }
          ]
         },
         "layout": {
          "annotationdefaults": {
           "arrowcolor": "#2a3f5f",
           "arrowhead": 0,
           "arrowwidth": 1
          },
          "autotypenumbers": "strict",
          "coloraxis": {
           "colorbar": {
            "outlinewidth": 0,
            "ticks": ""
           }
          },
          "colorscale": {
           "diverging": [
            [
             0,
             "#8e0152"
            ],
            [
             0.1,
             "#c51b7d"
            ],
            [
             0.2,
             "#de77ae"
            ],
            [
             0.3,
             "#f1b6da"
            ],
            [
             0.4,
             "#fde0ef"
            ],
            [
             0.5,
             "#f7f7f7"
            ],
            [
             0.6,
             "#e6f5d0"
            ],
            [
             0.7,
             "#b8e186"
            ],
            [
             0.8,
             "#7fbc41"
            ],
            [
             0.9,
             "#4d9221"
            ],
            [
             1,
             "#276419"
            ]
           ],
           "sequential": [
            [
             0,
             "#0d0887"
            ],
            [
             0.1111111111111111,
             "#46039f"
            ],
            [
             0.2222222222222222,
             "#7201a8"
            ],
            [
             0.3333333333333333,
             "#9c179e"
            ],
            [
             0.4444444444444444,
             "#bd3786"
            ],
            [
             0.5555555555555556,
             "#d8576b"
            ],
            [
             0.6666666666666666,
             "#ed7953"
            ],
            [
             0.7777777777777778,
             "#fb9f3a"
            ],
            [
             0.8888888888888888,
             "#fdca26"
            ],
            [
             1,
             "#f0f921"
            ]
           ],
           "sequentialminus": [
            [
             0,
             "#0d0887"
            ],
            [
             0.1111111111111111,
             "#46039f"
            ],
            [
             0.2222222222222222,
             "#7201a8"
            ],
            [
             0.3333333333333333,
             "#9c179e"
            ],
            [
             0.4444444444444444,
             "#bd3786"
            ],
            [
             0.5555555555555556,
             "#d8576b"
            ],
            [
             0.6666666666666666,
             "#ed7953"
            ],
            [
             0.7777777777777778,
             "#fb9f3a"
            ],
            [
             0.8888888888888888,
             "#fdca26"
            ],
            [
             1,
             "#f0f921"
            ]
           ]
          },
          "colorway": [
           "#636efa",
           "#EF553B",
           "#00cc96",
           "#ab63fa",
           "#FFA15A",
           "#19d3f3",
           "#FF6692",
           "#B6E880",
           "#FF97FF",
           "#FECB52"
          ],
          "font": {
           "color": "#2a3f5f"
          },
          "geo": {
           "bgcolor": "white",
           "lakecolor": "white",
           "landcolor": "#E5ECF6",
           "showlakes": true,
           "showland": true,
           "subunitcolor": "white"
          },
          "hoverlabel": {
           "align": "left"
          },
          "hovermode": "closest",
          "mapbox": {
           "style": "light"
          },
          "paper_bgcolor": "white",
          "plot_bgcolor": "#E5ECF6",
          "polar": {
           "angularaxis": {
            "gridcolor": "white",
            "linecolor": "white",
            "ticks": ""
           },
           "bgcolor": "#E5ECF6",
           "radialaxis": {
            "gridcolor": "white",
            "linecolor": "white",
            "ticks": ""
           }
          },
          "scene": {
           "xaxis": {
            "backgroundcolor": "#E5ECF6",
            "gridcolor": "white",
            "gridwidth": 2,
            "linecolor": "white",
            "showbackground": true,
            "ticks": "",
            "zerolinecolor": "white"
           },
           "yaxis": {
            "backgroundcolor": "#E5ECF6",
            "gridcolor": "white",
            "gridwidth": 2,
            "linecolor": "white",
            "showbackground": true,
            "ticks": "",
            "zerolinecolor": "white"
           },
           "zaxis": {
            "backgroundcolor": "#E5ECF6",
            "gridcolor": "white",
            "gridwidth": 2,
            "linecolor": "white",
            "showbackground": true,
            "ticks": "",
            "zerolinecolor": "white"
           }
          },
          "shapedefaults": {
           "line": {
            "color": "#2a3f5f"
           }
          },
          "ternary": {
           "aaxis": {
            "gridcolor": "white",
            "linecolor": "white",
            "ticks": ""
           },
           "baxis": {
            "gridcolor": "white",
            "linecolor": "white",
            "ticks": ""
           },
           "bgcolor": "#E5ECF6",
           "caxis": {
            "gridcolor": "white",
            "linecolor": "white",
            "ticks": ""
           }
          },
          "title": {
           "x": 0.05
          },
          "xaxis": {
           "automargin": true,
           "gridcolor": "white",
           "linecolor": "white",
           "ticks": "",
           "title": {
            "standoff": 15
           },
           "zerolinecolor": "white",
           "zerolinewidth": 2
          },
          "yaxis": {
           "automargin": true,
           "gridcolor": "white",
           "linecolor": "white",
           "ticks": "",
           "title": {
            "standoff": 15
           },
           "zerolinecolor": "white",
           "zerolinewidth": 2
          }
         }
        },
        "xaxis": {
         "anchor": "y",
         "constrain": "domain",
         "domain": [
          0,
          1
         ],
         "scaleanchor": "y"
        },
        "yaxis": {
         "anchor": "x",
         "autorange": "reversed",
         "constrain": "domain",
         "domain": [
          0,
          1
         ]
        }
       }
      },
      "text/html": [
       "<div>                            <div id=\"12da47dd-3be4-4f20-9578-01f1245af7e0\" class=\"plotly-graph-div\" style=\"height:525px; width:100%;\"></div>            <script type=\"text/javascript\">                require([\"plotly\"], function(Plotly) {                    window.PLOTLYENV=window.PLOTLYENV || {};                                    if (document.getElementById(\"12da47dd-3be4-4f20-9578-01f1245af7e0\")) {                    Plotly.newPlot(                        \"12da47dd-3be4-4f20-9578-01f1245af7e0\",                        [{\"coloraxis\":\"coloraxis\",\"hovertemplate\":\"x: %{x}<br>y: %{y}<br>color: %{z}<extra></extra>\",\"name\":\"0\",\"type\":\"heatmap\",\"x\":[\"LIMIT_BAL\",\"AGE\",\"BILL_AMT1\",\"PAY_AMT1\"],\"xaxis\":\"x\",\"y\":[\"LIMIT_BAL\",\"AGE\",\"BILL_AMT1\",\"PAY_AMT1\"],\"yaxis\":\"y\",\"z\":[[1.0,0.14471279755733674,0.28542986496498995,0.1952359152322094],[0.14471279755733674,1.0,0.05623853326056659,0.026146679056989194],[0.28542986496498995,0.05623853326056659,1.0,0.14027727757532418],[0.1952359152322094,0.026146679056989194,0.14027727757532418,1.0]]}],                        {\"coloraxis\":{\"colorscale\":[[0.0,\"#0d0887\"],[0.1111111111111111,\"#46039f\"],[0.2222222222222222,\"#7201a8\"],[0.3333333333333333,\"#9c179e\"],[0.4444444444444444,\"#bd3786\"],[0.5555555555555556,\"#d8576b\"],[0.6666666666666666,\"#ed7953\"],[0.7777777777777778,\"#fb9f3a\"],[0.8888888888888888,\"#fdca26\"],[1.0,\"#f0f921\"]]},\"margin\":{\"t\":60},\"template\":{\"data\":{\"bar\":[{\"error_x\":{\"color\":\"#2a3f5f\"},\"error_y\":{\"color\":\"#2a3f5f\"},\"marker\":{\"line\":{\"color\":\"#E5ECF6\",\"width\":0.5},\"pattern\":{\"fillmode\":\"overlay\",\"size\":10,\"solidity\":0.2}},\"type\":\"bar\"}],\"barpolar\":[{\"marker\":{\"line\":{\"color\":\"#E5ECF6\",\"width\":0.5},\"pattern\":{\"fillmode\":\"overlay\",\"size\":10,\"solidity\":0.2}},\"type\":\"barpolar\"}],\"carpet\":[{\"aaxis\":{\"endlinecolor\":\"#2a3f5f\",\"gridcolor\":\"white\",\"linecolor\":\"white\",\"minorgridcolor\":\"white\",\"startlinecolor\":\"#2a3f5f\"},\"baxis\":{\"endlinecolor\":\"#2a3f5f\",\"gridcolor\":\"white\",\"linecolor\":\"white\",\"minorgridcolor\":\"white\",\"startlinecolor\":\"#2a3f5f\"},\"type\":\"carpet\"}],\"choropleth\":[{\"colorbar\":{\"outlinewidth\":0,\"ticks\":\"\"},\"type\":\"choropleth\"}],\"contour\":[{\"colorbar\":{\"outlinewidth\":0,\"ticks\":\"\"},\"colorscale\":[[0.0,\"#0d0887\"],[0.1111111111111111,\"#46039f\"],[0.2222222222222222,\"#7201a8\"],[0.3333333333333333,\"#9c179e\"],[0.4444444444444444,\"#bd3786\"],[0.5555555555555556,\"#d8576b\"],[0.6666666666666666,\"#ed7953\"],[0.7777777777777778,\"#fb9f3a\"],[0.8888888888888888,\"#fdca26\"],[1.0,\"#f0f921\"]],\"type\":\"contour\"}],\"contourcarpet\":[{\"colorbar\":{\"outlinewidth\":0,\"ticks\":\"\"},\"type\":\"contourcarpet\"}],\"heatmap\":[{\"colorbar\":{\"outlinewidth\":0,\"ticks\":\"\"},\"colorscale\":[[0.0,\"#0d0887\"],[0.1111111111111111,\"#46039f\"],[0.2222222222222222,\"#7201a8\"],[0.3333333333333333,\"#9c179e\"],[0.4444444444444444,\"#bd3786\"],[0.5555555555555556,\"#d8576b\"],[0.6666666666666666,\"#ed7953\"],[0.7777777777777778,\"#fb9f3a\"],[0.8888888888888888,\"#fdca26\"],[1.0,\"#f0f921\"]],\"type\":\"heatmap\"}],\"heatmapgl\":[{\"colorbar\":{\"outlinewidth\":0,\"ticks\":\"\"},\"colorscale\":[[0.0,\"#0d0887\"],[0.1111111111111111,\"#46039f\"],[0.2222222222222222,\"#7201a8\"],[0.3333333333333333,\"#9c179e\"],[0.4444444444444444,\"#bd3786\"],[0.5555555555555556,\"#d8576b\"],[0.6666666666666666,\"#ed7953\"],[0.7777777777777778,\"#fb9f3a\"],[0.8888888888888888,\"#fdca26\"],[1.0,\"#f0f921\"]],\"type\":\"heatmapgl\"}],\"histogram\":[{\"marker\":{\"pattern\":{\"fillmode\":\"overlay\",\"size\":10,\"solidity\":0.2}},\"type\":\"histogram\"}],\"histogram2d\":[{\"colorbar\":{\"outlinewidth\":0,\"ticks\":\"\"},\"colorscale\":[[0.0,\"#0d0887\"],[0.1111111111111111,\"#46039f\"],[0.2222222222222222,\"#7201a8\"],[0.3333333333333333,\"#9c179e\"],[0.4444444444444444,\"#bd3786\"],[0.5555555555555556,\"#d8576b\"],[0.6666666666666666,\"#ed7953\"],[0.7777777777777778,\"#fb9f3a\"],[0.8888888888888888,\"#fdca26\"],[1.0,\"#f0f921\"]],\"type\":\"histogram2d\"}],\"histogram2dcontour\":[{\"colorbar\":{\"outlinewidth\":0,\"ticks\":\"\"},\"colorscale\":[[0.0,\"#0d0887\"],[0.1111111111111111,\"#46039f\"],[0.2222222222222222,\"#7201a8\"],[0.3333333333333333,\"#9c179e\"],[0.4444444444444444,\"#bd3786\"],[0.5555555555555556,\"#d8576b\"],[0.6666666666666666,\"#ed7953\"],[0.7777777777777778,\"#fb9f3a\"],[0.8888888888888888,\"#fdca26\"],[1.0,\"#f0f921\"]],\"type\":\"histogram2dcontour\"}],\"mesh3d\":[{\"colorbar\":{\"outlinewidth\":0,\"ticks\":\"\"},\"type\":\"mesh3d\"}],\"parcoords\":[{\"line\":{\"colorbar\":{\"outlinewidth\":0,\"ticks\":\"\"}},\"type\":\"parcoords\"}],\"pie\":[{\"automargin\":true,\"type\":\"pie\"}],\"scatter\":[{\"marker\":{\"colorbar\":{\"outlinewidth\":0,\"ticks\":\"\"}},\"type\":\"scatter\"}],\"scatter3d\":[{\"line\":{\"colorbar\":{\"outlinewidth\":0,\"ticks\":\"\"}},\"marker\":{\"colorbar\":{\"outlinewidth\":0,\"ticks\":\"\"}},\"type\":\"scatter3d\"}],\"scattercarpet\":[{\"marker\":{\"colorbar\":{\"outlinewidth\":0,\"ticks\":\"\"}},\"type\":\"scattercarpet\"}],\"scattergeo\":[{\"marker\":{\"colorbar\":{\"outlinewidth\":0,\"ticks\":\"\"}},\"type\":\"scattergeo\"}],\"scattergl\":[{\"marker\":{\"colorbar\":{\"outlinewidth\":0,\"ticks\":\"\"}},\"type\":\"scattergl\"}],\"scattermapbox\":[{\"marker\":{\"colorbar\":{\"outlinewidth\":0,\"ticks\":\"\"}},\"type\":\"scattermapbox\"}],\"scatterpolar\":[{\"marker\":{\"colorbar\":{\"outlinewidth\":0,\"ticks\":\"\"}},\"type\":\"scatterpolar\"}],\"scatterpolargl\":[{\"marker\":{\"colorbar\":{\"outlinewidth\":0,\"ticks\":\"\"}},\"type\":\"scatterpolargl\"}],\"scatterternary\":[{\"marker\":{\"colorbar\":{\"outlinewidth\":0,\"ticks\":\"\"}},\"type\":\"scatterternary\"}],\"surface\":[{\"colorbar\":{\"outlinewidth\":0,\"ticks\":\"\"},\"colorscale\":[[0.0,\"#0d0887\"],[0.1111111111111111,\"#46039f\"],[0.2222222222222222,\"#7201a8\"],[0.3333333333333333,\"#9c179e\"],[0.4444444444444444,\"#bd3786\"],[0.5555555555555556,\"#d8576b\"],[0.6666666666666666,\"#ed7953\"],[0.7777777777777778,\"#fb9f3a\"],[0.8888888888888888,\"#fdca26\"],[1.0,\"#f0f921\"]],\"type\":\"surface\"}],\"table\":[{\"cells\":{\"fill\":{\"color\":\"#EBF0F8\"},\"line\":{\"color\":\"white\"}},\"header\":{\"fill\":{\"color\":\"#C8D4E3\"},\"line\":{\"color\":\"white\"}},\"type\":\"table\"}]},\"layout\":{\"annotationdefaults\":{\"arrowcolor\":\"#2a3f5f\",\"arrowhead\":0,\"arrowwidth\":1},\"autotypenumbers\":\"strict\",\"coloraxis\":{\"colorbar\":{\"outlinewidth\":0,\"ticks\":\"\"}},\"colorscale\":{\"diverging\":[[0,\"#8e0152\"],[0.1,\"#c51b7d\"],[0.2,\"#de77ae\"],[0.3,\"#f1b6da\"],[0.4,\"#fde0ef\"],[0.5,\"#f7f7f7\"],[0.6,\"#e6f5d0\"],[0.7,\"#b8e186\"],[0.8,\"#7fbc41\"],[0.9,\"#4d9221\"],[1,\"#276419\"]],\"sequential\":[[0.0,\"#0d0887\"],[0.1111111111111111,\"#46039f\"],[0.2222222222222222,\"#7201a8\"],[0.3333333333333333,\"#9c179e\"],[0.4444444444444444,\"#bd3786\"],[0.5555555555555556,\"#d8576b\"],[0.6666666666666666,\"#ed7953\"],[0.7777777777777778,\"#fb9f3a\"],[0.8888888888888888,\"#fdca26\"],[1.0,\"#f0f921\"]],\"sequentialminus\":[[0.0,\"#0d0887\"],[0.1111111111111111,\"#46039f\"],[0.2222222222222222,\"#7201a8\"],[0.3333333333333333,\"#9c179e\"],[0.4444444444444444,\"#bd3786\"],[0.5555555555555556,\"#d8576b\"],[0.6666666666666666,\"#ed7953\"],[0.7777777777777778,\"#fb9f3a\"],[0.8888888888888888,\"#fdca26\"],[1.0,\"#f0f921\"]]},\"colorway\":[\"#636efa\",\"#EF553B\",\"#00cc96\",\"#ab63fa\",\"#FFA15A\",\"#19d3f3\",\"#FF6692\",\"#B6E880\",\"#FF97FF\",\"#FECB52\"],\"font\":{\"color\":\"#2a3f5f\"},\"geo\":{\"bgcolor\":\"white\",\"lakecolor\":\"white\",\"landcolor\":\"#E5ECF6\",\"showlakes\":true,\"showland\":true,\"subunitcolor\":\"white\"},\"hoverlabel\":{\"align\":\"left\"},\"hovermode\":\"closest\",\"mapbox\":{\"style\":\"light\"},\"paper_bgcolor\":\"white\",\"plot_bgcolor\":\"#E5ECF6\",\"polar\":{\"angularaxis\":{\"gridcolor\":\"white\",\"linecolor\":\"white\",\"ticks\":\"\"},\"bgcolor\":\"#E5ECF6\",\"radialaxis\":{\"gridcolor\":\"white\",\"linecolor\":\"white\",\"ticks\":\"\"}},\"scene\":{\"xaxis\":{\"backgroundcolor\":\"#E5ECF6\",\"gridcolor\":\"white\",\"gridwidth\":2,\"linecolor\":\"white\",\"showbackground\":true,\"ticks\":\"\",\"zerolinecolor\":\"white\"},\"yaxis\":{\"backgroundcolor\":\"#E5ECF6\",\"gridcolor\":\"white\",\"gridwidth\":2,\"linecolor\":\"white\",\"showbackground\":true,\"ticks\":\"\",\"zerolinecolor\":\"white\"},\"zaxis\":{\"backgroundcolor\":\"#E5ECF6\",\"gridcolor\":\"white\",\"gridwidth\":2,\"linecolor\":\"white\",\"showbackground\":true,\"ticks\":\"\",\"zerolinecolor\":\"white\"}},\"shapedefaults\":{\"line\":{\"color\":\"#2a3f5f\"}},\"ternary\":{\"aaxis\":{\"gridcolor\":\"white\",\"linecolor\":\"white\",\"ticks\":\"\"},\"baxis\":{\"gridcolor\":\"white\",\"linecolor\":\"white\",\"ticks\":\"\"},\"bgcolor\":\"#E5ECF6\",\"caxis\":{\"gridcolor\":\"white\",\"linecolor\":\"white\",\"ticks\":\"\"}},\"title\":{\"x\":0.05},\"xaxis\":{\"automargin\":true,\"gridcolor\":\"white\",\"linecolor\":\"white\",\"ticks\":\"\",\"title\":{\"standoff\":15},\"zerolinecolor\":\"white\",\"zerolinewidth\":2},\"yaxis\":{\"automargin\":true,\"gridcolor\":\"white\",\"linecolor\":\"white\",\"ticks\":\"\",\"title\":{\"standoff\":15},\"zerolinecolor\":\"white\",\"zerolinewidth\":2}}},\"xaxis\":{\"anchor\":\"y\",\"constrain\":\"domain\",\"domain\":[0.0,1.0],\"scaleanchor\":\"y\"},\"yaxis\":{\"anchor\":\"x\",\"autorange\":\"reversed\",\"constrain\":\"domain\",\"domain\":[0.0,1.0]}},                        {\"responsive\": true}                    ).then(function(){\n",
       "                            \n",
       "var gd = document.getElementById('12da47dd-3be4-4f20-9578-01f1245af7e0');\n",
       "var x = new MutationObserver(function (mutations, observer) {{\n",
       "        var display = window.getComputedStyle(gd).display;\n",
       "        if (!display || display === 'none') {{\n",
       "            console.log([gd, 'removed!']);\n",
       "            Plotly.purge(gd);\n",
       "            observer.disconnect();\n",
       "        }}\n",
       "}});\n",
       "\n",
       "// Listen for the removal of the full notebook cells\n",
       "var notebookContainer = gd.closest('#notebook-container');\n",
       "if (notebookContainer) {{\n",
       "    x.observe(notebookContainer, {childList: true});\n",
       "}}\n",
       "\n",
       "// Listen for the clearing of the current output cell\n",
       "var outputEl = gd.closest('.output');\n",
       "if (outputEl) {{\n",
       "    x.observe(outputEl, {childList: true});\n",
       "}}\n",
       "\n",
       "                        })                };                });            </script>        </div>"
      ]
     },
     "metadata": {},
     "output_type": "display_data"
    }
   ],
   "source": [
    "## Correlation Coefficient Matrix \n",
    "## The plot below represents the correlation matrix of the dataset. Following the exploration of the\n",
    "##colors, there exist a positive correlation between the variables. \n",
    "fig = px.imshow(df.corr())\n",
    "fig.show()\n"
   ]
  },
  {
   "cell_type": "code",
   "execution_count": 22,
   "id": "fed6a46f",
   "metadata": {},
   "outputs": [],
   "source": [
    "## Data Analysis \n",
    "## set the dependent variable to have 0 and 1 dummi variables 1 for Yes and 0 for No\n",
    "\n",
    "X = pd.get_dummies(df.drop(['defaulted'], axis=1))\n",
    "y = df['defaulted']\n",
    "\n",
    "\n",
    "## split the train and the test data\n",
    "X_train, X_test, y_train, y_test = train_test_split(X, y, test_size=.2)"
   ]
  },
  {
   "cell_type": "code",
   "execution_count": 23,
   "id": "779d046e",
   "metadata": {},
   "outputs": [
    {
     "data": {
      "text/plain": [
       "10780    0\n",
       "19603    1\n",
       "13737    0\n",
       "11832    0\n",
       "12367    1\n",
       "Name: defaulted, dtype: category\n",
       "Categories (2, int64): [0, 1]"
      ]
     },
     "execution_count": 23,
     "metadata": {},
     "output_type": "execute_result"
    }
   ],
   "source": [
    "y_train.head()"
   ]
  },
  {
   "cell_type": "code",
   "execution_count": 24,
   "id": "aeeae5d9",
   "metadata": {},
   "outputs": [],
   "source": [
    "# build and compile the model \n",
    "model = Sequential()\n",
    "model.add(Dense(units=32, activation='relu', input_dim=len(X_train.columns)))\n",
    "model.add(Dense(units=64, activation='relu'))\n",
    "model.add(Dense(units=1, activation='sigmoid'))\n",
    "model.compile(loss='binary_crossentropy', optimizer='sgd', metrics='accuracy')"
   ]
  },
  {
   "cell_type": "code",
   "execution_count": 25,
   "id": "81ecd5d2",
   "metadata": {},
   "outputs": [
    {
     "name": "stdout",
     "output_type": "stream",
     "text": [
      "Epoch 1/200\n",
      "750/750 [==============================] - 2s 2ms/step - loss: 41876608.0000 - accuracy: 0.7773\n",
      "Epoch 2/200\n",
      "750/750 [==============================] - 1s 2ms/step - loss: 0.5299 - accuracy: 0.7795\n",
      "Epoch 3/200\n",
      "750/750 [==============================] - 1s 2ms/step - loss: 0.5276 - accuracy: 0.7795\n",
      "Epoch 4/200\n",
      "750/750 [==============================] - 1s 2ms/step - loss: 0.5275 - accuracy: 0.7795\n",
      "Epoch 5/200\n",
      "750/750 [==============================] - 1s 1ms/step - loss: 0.5275 - accuracy: 0.7795\n",
      "Epoch 6/200\n",
      "750/750 [==============================] - 1s 1ms/step - loss: 0.5275 - accuracy: 0.7795\n",
      "Epoch 7/200\n",
      "750/750 [==============================] - 2s 3ms/step - loss: 0.5275 - accuracy: 0.7795\n",
      "Epoch 8/200\n",
      "750/750 [==============================] - 1s 2ms/step - loss: 0.5275 - accuracy: 0.7795\n",
      "Epoch 9/200\n",
      "750/750 [==============================] - 2s 2ms/step - loss: 0.5275 - accuracy: 0.7795\n",
      "Epoch 10/200\n",
      "750/750 [==============================] - 2s 3ms/step - loss: 0.5275 - accuracy: 0.7795\n",
      "Epoch 11/200\n",
      "750/750 [==============================] - 3s 4ms/step - loss: 0.5275 - accuracy: 0.7795\n",
      "Epoch 12/200\n",
      "750/750 [==============================] - 3s 4ms/step - loss: 0.5275 - accuracy: 0.7795\n",
      "Epoch 13/200\n",
      "750/750 [==============================] - 1s 2ms/step - loss: 0.5275 - accuracy: 0.7795\n",
      "Epoch 14/200\n",
      "750/750 [==============================] - 1s 1ms/step - loss: 0.5275 - accuracy: 0.7795\n",
      "Epoch 15/200\n",
      "750/750 [==============================] - 2s 3ms/step - loss: 0.5275 - accuracy: 0.7795\n",
      "Epoch 16/200\n",
      "750/750 [==============================] - 2s 2ms/step - loss: 0.5275 - accuracy: 0.7795\n",
      "Epoch 17/200\n",
      "750/750 [==============================] - 2s 3ms/step - loss: 0.5275 - accuracy: 0.7795\n",
      "Epoch 18/200\n",
      "750/750 [==============================] - 2s 3ms/step - loss: 0.5275 - accuracy: 0.7795\n",
      "Epoch 19/200\n",
      "750/750 [==============================] - 2s 2ms/step - loss: 0.5275 - accuracy: 0.7795\n",
      "Epoch 20/200\n",
      "750/750 [==============================] - 2s 2ms/step - loss: 0.5275 - accuracy: 0.7795\n",
      "Epoch 21/200\n",
      "750/750 [==============================] - 1s 1ms/step - loss: 0.5275 - accuracy: 0.7795\n",
      "Epoch 22/200\n",
      "750/750 [==============================] - 1s 1ms/step - loss: 0.5275 - accuracy: 0.7795\n",
      "Epoch 23/200\n",
      "750/750 [==============================] - 1s 1ms/step - loss: 0.5275 - accuracy: 0.7795\n",
      "Epoch 24/200\n",
      "750/750 [==============================] - 1s 1ms/step - loss: 0.5275 - accuracy: 0.7795\n",
      "Epoch 25/200\n",
      "750/750 [==============================] - 1s 2ms/step - loss: 0.5275 - accuracy: 0.7795\n",
      "Epoch 26/200\n",
      "750/750 [==============================] - 1s 2ms/step - loss: 0.5275 - accuracy: 0.7795\n",
      "Epoch 27/200\n",
      "750/750 [==============================] - 1s 1ms/step - loss: 0.5275 - accuracy: 0.7795\n",
      "Epoch 28/200\n",
      "750/750 [==============================] - 1s 2ms/step - loss: 0.5275 - accuracy: 0.7795\n",
      "Epoch 29/200\n",
      "750/750 [==============================] - 2s 2ms/step - loss: 0.5275 - accuracy: 0.7795\n",
      "Epoch 30/200\n",
      "750/750 [==============================] - 2s 2ms/step - loss: 0.5275 - accuracy: 0.7795\n",
      "Epoch 31/200\n",
      "750/750 [==============================] - 2s 3ms/step - loss: 0.5275 - accuracy: 0.7795\n",
      "Epoch 32/200\n",
      "750/750 [==============================] - 2s 3ms/step - loss: 0.5275 - accuracy: 0.7795\n",
      "Epoch 33/200\n",
      "750/750 [==============================] - 2s 2ms/step - loss: 0.5275 - accuracy: 0.7795\n",
      "Epoch 34/200\n",
      "750/750 [==============================] - 1s 2ms/step - loss: 0.5275 - accuracy: 0.7795\n",
      "Epoch 35/200\n",
      "750/750 [==============================] - 2s 2ms/step - loss: 0.5275 - accuracy: 0.7795\n",
      "Epoch 36/200\n",
      "750/750 [==============================] - 1s 2ms/step - loss: 0.5275 - accuracy: 0.7795\n",
      "Epoch 37/200\n",
      "750/750 [==============================] - 1s 2ms/step - loss: 0.5275 - accuracy: 0.7795\n",
      "Epoch 38/200\n",
      "750/750 [==============================] - 1s 1ms/step - loss: 0.5275 - accuracy: 0.7795\n",
      "Epoch 39/200\n",
      "750/750 [==============================] - 1s 2ms/step - loss: 0.5275 - accuracy: 0.7795\n",
      "Epoch 40/200\n",
      "750/750 [==============================] - 2s 2ms/step - loss: 0.5275 - accuracy: 0.7795\n",
      "Epoch 41/200\n",
      "750/750 [==============================] - 1s 2ms/step - loss: 0.5275 - accuracy: 0.7795\n",
      "Epoch 42/200\n",
      "750/750 [==============================] - 1s 2ms/step - loss: 0.5275 - accuracy: 0.7795\n",
      "Epoch 43/200\n",
      "750/750 [==============================] - 1s 2ms/step - loss: 0.5275 - accuracy: 0.7795\n",
      "Epoch 44/200\n",
      "750/750 [==============================] - 1s 1ms/step - loss: 0.5275 - accuracy: 0.7795\n",
      "Epoch 45/200\n",
      "750/750 [==============================] - 1s 1ms/step - loss: 0.5275 - accuracy: 0.7795\n",
      "Epoch 46/200\n",
      "750/750 [==============================] - 1s 1ms/step - loss: 0.5275 - accuracy: 0.7795\n",
      "Epoch 47/200\n",
      "750/750 [==============================] - 2s 2ms/step - loss: 0.5275 - accuracy: 0.7795\n",
      "Epoch 48/200\n",
      "750/750 [==============================] - 2s 2ms/step - loss: 0.5275 - accuracy: 0.7795\n",
      "Epoch 49/200\n",
      "750/750 [==============================] - 2s 3ms/step - loss: 0.5275 - accuracy: 0.7795\n",
      "Epoch 50/200\n",
      "750/750 [==============================] - 2s 3ms/step - loss: 0.5275 - accuracy: 0.7795\n",
      "Epoch 51/200\n",
      "750/750 [==============================] - 3s 4ms/step - loss: 0.5275 - accuracy: 0.7795\n",
      "Epoch 52/200\n",
      "750/750 [==============================] - 2s 3ms/step - loss: 0.5275 - accuracy: 0.7795\n",
      "Epoch 53/200\n",
      "750/750 [==============================] - 2s 2ms/step - loss: 0.5275 - accuracy: 0.7795\n",
      "Epoch 54/200\n",
      "750/750 [==============================] - 1s 2ms/step - loss: 0.5275 - accuracy: 0.7795\n",
      "Epoch 55/200\n",
      "750/750 [==============================] - 1s 2ms/step - loss: 0.5275 - accuracy: 0.7795\n",
      "Epoch 56/200\n",
      "750/750 [==============================] - 2s 3ms/step - loss: 0.5275 - accuracy: 0.7795\n",
      "Epoch 57/200\n",
      "750/750 [==============================] - 1s 2ms/step - loss: 0.5275 - accuracy: 0.7795\n",
      "Epoch 58/200\n",
      "750/750 [==============================] - 1s 2ms/step - loss: 0.5275 - accuracy: 0.7795\n",
      "Epoch 59/200\n",
      "750/750 [==============================] - 2s 2ms/step - loss: 0.5275 - accuracy: 0.7795\n",
      "Epoch 60/200\n",
      "750/750 [==============================] - 1s 1ms/step - loss: 0.5275 - accuracy: 0.7795\n",
      "Epoch 61/200\n",
      "750/750 [==============================] - 2s 2ms/step - loss: 0.5275 - accuracy: 0.7795\n",
      "Epoch 62/200\n",
      "750/750 [==============================] - 2s 3ms/step - loss: 0.5275 - accuracy: 0.7795\n",
      "Epoch 63/200\n",
      "750/750 [==============================] - 3s 4ms/step - loss: 0.5275 - accuracy: 0.7795\n",
      "Epoch 64/200\n",
      "750/750 [==============================] - 4s 5ms/step - loss: 0.5275 - accuracy: 0.7795\n",
      "Epoch 65/200\n",
      "750/750 [==============================] - 2s 3ms/step - loss: 0.5275 - accuracy: 0.7795\n",
      "Epoch 66/200\n",
      "750/750 [==============================] - 3s 3ms/step - loss: 0.5275 - accuracy: 0.7795\n",
      "Epoch 67/200\n",
      "750/750 [==============================] - 2s 2ms/step - loss: 0.5275 - accuracy: 0.7795\n",
      "Epoch 68/200\n",
      "750/750 [==============================] - 4s 5ms/step - loss: 0.5275 - accuracy: 0.7795\n",
      "Epoch 69/200\n",
      "750/750 [==============================] - 2s 2ms/step - loss: 0.5275 - accuracy: 0.7795\n",
      "Epoch 70/200\n",
      "750/750 [==============================] - 3s 3ms/step - loss: 0.5275 - accuracy: 0.7795\n",
      "Epoch 71/200\n",
      "750/750 [==============================] - 2s 2ms/step - loss: 0.5275 - accuracy: 0.7795\n",
      "Epoch 72/200\n",
      "750/750 [==============================] - 4s 5ms/step - loss: 0.5275 - accuracy: 0.7795\n",
      "Epoch 73/200\n",
      "750/750 [==============================] - 2s 3ms/step - loss: 0.5275 - accuracy: 0.7795\n",
      "Epoch 74/200\n",
      "750/750 [==============================] - 1s 2ms/step - loss: 0.5275 - accuracy: 0.7795\n",
      "Epoch 75/200\n",
      "750/750 [==============================] - 1s 2ms/step - loss: 0.5275 - accuracy: 0.7795\n",
      "Epoch 76/200\n",
      "750/750 [==============================] - 2s 3ms/step - loss: 0.5275 - accuracy: 0.7795\n",
      "Epoch 77/200\n",
      "750/750 [==============================] - 3s 4ms/step - loss: 0.5275 - accuracy: 0.7795\n",
      "Epoch 78/200\n",
      "750/750 [==============================] - 8s 10ms/step - loss: 0.5275 - accuracy: 0.7795\n",
      "Epoch 79/200\n",
      "750/750 [==============================] - 7s 10ms/step - loss: 0.5275 - accuracy: 0.7795\n",
      "Epoch 80/200\n",
      "750/750 [==============================] - 3s 4ms/step - loss: 0.5275 - accuracy: 0.7795\n",
      "Epoch 81/200\n"
     ]
    },
    {
     "name": "stdout",
     "output_type": "stream",
     "text": [
      "750/750 [==============================] - 3s 4ms/step - loss: 0.5275 - accuracy: 0.7795\n",
      "Epoch 82/200\n",
      "750/750 [==============================] - 3s 4ms/step - loss: 0.5275 - accuracy: 0.7795\n",
      "Epoch 83/200\n",
      "750/750 [==============================] - 3s 4ms/step - loss: 0.5275 - accuracy: 0.7795\n",
      "Epoch 84/200\n",
      "750/750 [==============================] - 2s 3ms/step - loss: 0.5275 - accuracy: 0.7795\n",
      "Epoch 85/200\n",
      "750/750 [==============================] - 2s 2ms/step - loss: 0.5275 - accuracy: 0.7795\n",
      "Epoch 86/200\n",
      "750/750 [==============================] - 2s 2ms/step - loss: 0.5275 - accuracy: 0.7795\n",
      "Epoch 87/200\n",
      "750/750 [==============================] - 2s 2ms/step - loss: 0.5275 - accuracy: 0.7795\n",
      "Epoch 88/200\n",
      "750/750 [==============================] - 1s 2ms/step - loss: 0.5275 - accuracy: 0.7795\n",
      "Epoch 89/200\n",
      "750/750 [==============================] - 2s 2ms/step - loss: 0.5275 - accuracy: 0.7795\n",
      "Epoch 90/200\n",
      "750/750 [==============================] - 2s 3ms/step - loss: 0.5275 - accuracy: 0.7795\n",
      "Epoch 91/200\n",
      "750/750 [==============================] - 1s 2ms/step - loss: 0.5275 - accuracy: 0.7795\n",
      "Epoch 92/200\n",
      "750/750 [==============================] - 1s 2ms/step - loss: 0.5275 - accuracy: 0.7795\n",
      "Epoch 93/200\n",
      "750/750 [==============================] - 2s 3ms/step - loss: 0.5275 - accuracy: 0.7795\n",
      "Epoch 94/200\n",
      "750/750 [==============================] - 2s 2ms/step - loss: 0.5275 - accuracy: 0.7795\n",
      "Epoch 95/200\n",
      "750/750 [==============================] - 2s 3ms/step - loss: 0.5275 - accuracy: 0.7795\n",
      "Epoch 96/200\n",
      "750/750 [==============================] - 2s 2ms/step - loss: 0.5275 - accuracy: 0.7795\n",
      "Epoch 97/200\n",
      "750/750 [==============================] - 2s 3ms/step - loss: 0.5275 - accuracy: 0.7795\n",
      "Epoch 98/200\n",
      "750/750 [==============================] - 2s 2ms/step - loss: 0.5275 - accuracy: 0.7795\n",
      "Epoch 99/200\n",
      "750/750 [==============================] - 1s 2ms/step - loss: 0.5275 - accuracy: 0.7795\n",
      "Epoch 100/200\n",
      "750/750 [==============================] - 1s 2ms/step - loss: 0.5275 - accuracy: 0.7795\n",
      "Epoch 101/200\n",
      "750/750 [==============================] - 2s 3ms/step - loss: 0.5275 - accuracy: 0.7795\n",
      "Epoch 102/200\n",
      "750/750 [==============================] - 3s 4ms/step - loss: 0.5275 - accuracy: 0.7795\n",
      "Epoch 103/200\n",
      "750/750 [==============================] - 2s 3ms/step - loss: 0.5275 - accuracy: 0.7795\n",
      "Epoch 104/200\n",
      "750/750 [==============================] - 2s 3ms/step - loss: 0.5275 - accuracy: 0.7795\n",
      "Epoch 105/200\n",
      "750/750 [==============================] - 3s 4ms/step - loss: 0.5275 - accuracy: 0.7795\n",
      "Epoch 106/200\n",
      "750/750 [==============================] - 2s 3ms/step - loss: 0.5275 - accuracy: 0.7795\n",
      "Epoch 107/200\n",
      "750/750 [==============================] - 2s 2ms/step - loss: 0.5275 - accuracy: 0.7795\n",
      "Epoch 108/200\n",
      "750/750 [==============================] - 2s 3ms/step - loss: 0.5275 - accuracy: 0.7795\n",
      "Epoch 109/200\n",
      "750/750 [==============================] - 2s 3ms/step - loss: 0.5275 - accuracy: 0.7795\n",
      "Epoch 110/200\n",
      "750/750 [==============================] - 2s 2ms/step - loss: 0.5275 - accuracy: 0.7795\n",
      "Epoch 111/200\n",
      "750/750 [==============================] - 2s 3ms/step - loss: 0.5275 - accuracy: 0.7795\n",
      "Epoch 112/200\n",
      "750/750 [==============================] - 2s 3ms/step - loss: 0.5275 - accuracy: 0.7795\n",
      "Epoch 113/200\n",
      "750/750 [==============================] - 2s 3ms/step - loss: 0.5275 - accuracy: 0.7795\n",
      "Epoch 114/200\n",
      "750/750 [==============================] - 1s 2ms/step - loss: 0.5275 - accuracy: 0.7795\n",
      "Epoch 115/200\n",
      "750/750 [==============================] - 2s 3ms/step - loss: 0.5275 - accuracy: 0.7795\n",
      "Epoch 116/200\n",
      "750/750 [==============================] - 2s 3ms/step - loss: 0.5275 - accuracy: 0.7795\n",
      "Epoch 117/200\n",
      "750/750 [==============================] - 2s 2ms/step - loss: 0.5275 - accuracy: 0.7795\n",
      "Epoch 118/200\n",
      "750/750 [==============================] - 2s 3ms/step - loss: 0.5275 - accuracy: 0.7795\n",
      "Epoch 119/200\n",
      "750/750 [==============================] - 2s 3ms/step - loss: 0.5275 - accuracy: 0.7795\n",
      "Epoch 120/200\n",
      "750/750 [==============================] - 2s 2ms/step - loss: 0.5275 - accuracy: 0.7795\n",
      "Epoch 121/200\n",
      "750/750 [==============================] - 2s 3ms/step - loss: 0.5275 - accuracy: 0.7795\n",
      "Epoch 122/200\n",
      "750/750 [==============================] - 2s 3ms/step - loss: 0.5275 - accuracy: 0.7795\n",
      "Epoch 123/200\n",
      "750/750 [==============================] - 1s 2ms/step - loss: 0.5275 - accuracy: 0.7795\n",
      "Epoch 124/200\n",
      "750/750 [==============================] - 1s 2ms/step - loss: 0.5275 - accuracy: 0.7795\n",
      "Epoch 125/200\n",
      "750/750 [==============================] - 2s 3ms/step - loss: 0.5275 - accuracy: 0.7795\n",
      "Epoch 126/200\n",
      "750/750 [==============================] - 2s 3ms/step - loss: 0.5275 - accuracy: 0.7795\n",
      "Epoch 127/200\n",
      "750/750 [==============================] - 3s 4ms/step - loss: 0.5275 - accuracy: 0.7795\n",
      "Epoch 128/200\n",
      "750/750 [==============================] - 3s 4ms/step - loss: 0.5275 - accuracy: 0.7795\n",
      "Epoch 129/200\n",
      "750/750 [==============================] - 3s 4ms/step - loss: 0.5275 - accuracy: 0.7795\n",
      "Epoch 130/200\n",
      "750/750 [==============================] - 3s 4ms/step - loss: 0.5275 - accuracy: 0.7795\n",
      "Epoch 131/200\n",
      "750/750 [==============================] - 1s 2ms/step - loss: 0.5275 - accuracy: 0.7795\n",
      "Epoch 132/200\n",
      "750/750 [==============================] - 4s 5ms/step - loss: 0.5275 - accuracy: 0.7795\n",
      "Epoch 133/200\n",
      "750/750 [==============================] - 3s 3ms/step - loss: 0.5275 - accuracy: 0.7795\n",
      "Epoch 134/200\n",
      "750/750 [==============================] - 3s 4ms/step - loss: 0.5275 - accuracy: 0.7795\n",
      "Epoch 135/200\n",
      "750/750 [==============================] - 2s 3ms/step - loss: 0.5275 - accuracy: 0.7795\n",
      "Epoch 136/200\n",
      "750/750 [==============================] - 2s 2ms/step - loss: 0.5275 - accuracy: 0.7795\n",
      "Epoch 137/200\n",
      "750/750 [==============================] - 1s 2ms/step - loss: 0.5275 - accuracy: 0.7795\n",
      "Epoch 138/200\n",
      "750/750 [==============================] - 2s 2ms/step - loss: 0.5275 - accuracy: 0.7795\n",
      "Epoch 139/200\n",
      "750/750 [==============================] - 2s 3ms/step - loss: 0.5275 - accuracy: 0.7795\n",
      "Epoch 140/200\n",
      "750/750 [==============================] - 2s 3ms/step - loss: 0.5275 - accuracy: 0.7795\n",
      "Epoch 141/200\n",
      "750/750 [==============================] - 1s 2ms/step - loss: 0.5275 - accuracy: 0.7795\n",
      "Epoch 142/200\n",
      "750/750 [==============================] - 1s 2ms/step - loss: 0.5275 - accuracy: 0.7795\n",
      "Epoch 143/200\n",
      "750/750 [==============================] - 2s 3ms/step - loss: 0.5275 - accuracy: 0.7795\n",
      "Epoch 144/200\n",
      "750/750 [==============================] - 2s 2ms/step - loss: 0.5275 - accuracy: 0.7795\n",
      "Epoch 145/200\n",
      "750/750 [==============================] - 1s 2ms/step - loss: 0.5275 - accuracy: 0.7795\n",
      "Epoch 146/200\n",
      "750/750 [==============================] - 2s 2ms/step - loss: 0.5275 - accuracy: 0.7795\n",
      "Epoch 147/200\n",
      "750/750 [==============================] - 2s 2ms/step - loss: 0.5275 - accuracy: 0.7795\n",
      "Epoch 148/200\n",
      "750/750 [==============================] - 2s 2ms/step - loss: 0.5275 - accuracy: 0.7795\n",
      "Epoch 149/200\n",
      "750/750 [==============================] - 3s 4ms/step - loss: 0.5275 - accuracy: 0.7795\n",
      "Epoch 150/200\n",
      "750/750 [==============================] - 2s 3ms/step - loss: 0.5275 - accuracy: 0.7795\n",
      "Epoch 151/200\n",
      "750/750 [==============================] - 3s 3ms/step - loss: 0.5275 - accuracy: 0.7795\n",
      "Epoch 152/200\n",
      "750/750 [==============================] - 2s 3ms/step - loss: 0.5275 - accuracy: 0.7795\n",
      "Epoch 153/200\n",
      "750/750 [==============================] - 2s 3ms/step - loss: 0.5275 - accuracy: 0.7795\n",
      "Epoch 154/200\n",
      "750/750 [==============================] - 2s 3ms/step - loss: 0.5275 - accuracy: 0.7795\n",
      "Epoch 155/200\n",
      "750/750 [==============================] - 2s 3ms/step - loss: 0.5275 - accuracy: 0.7795\n",
      "Epoch 156/200\n",
      "750/750 [==============================] - 2s 3ms/step - loss: 0.5275 - accuracy: 0.7795\n",
      "Epoch 157/200\n",
      "750/750 [==============================] - 2s 3ms/step - loss: 0.5275 - accuracy: 0.7795\n",
      "Epoch 158/200\n",
      "750/750 [==============================] - 2s 2ms/step - loss: 0.5275 - accuracy: 0.7795\n",
      "Epoch 159/200\n",
      "750/750 [==============================] - 2s 2ms/step - loss: 0.5275 - accuracy: 0.7795\n",
      "Epoch 160/200\n"
     ]
    },
    {
     "name": "stdout",
     "output_type": "stream",
     "text": [
      "750/750 [==============================] - 2s 2ms/step - loss: 0.5275 - accuracy: 0.7795\n",
      "Epoch 161/200\n",
      "750/750 [==============================] - 2s 3ms/step - loss: 0.5275 - accuracy: 0.7795\n",
      "Epoch 162/200\n",
      "750/750 [==============================] - 3s 4ms/step - loss: 0.5275 - accuracy: 0.7795\n",
      "Epoch 163/200\n",
      "750/750 [==============================] - 1s 2ms/step - loss: 0.5275 - accuracy: 0.7795\n",
      "Epoch 164/200\n",
      "750/750 [==============================] - 1s 1ms/step - loss: 0.5275 - accuracy: 0.7795\n",
      "Epoch 165/200\n",
      "750/750 [==============================] - 1s 2ms/step - loss: 0.5275 - accuracy: 0.7795\n",
      "Epoch 166/200\n",
      "750/750 [==============================] - 1s 2ms/step - loss: 0.5275 - accuracy: 0.7795\n",
      "Epoch 167/200\n",
      "750/750 [==============================] - 3s 4ms/step - loss: 0.5275 - accuracy: 0.7795\n",
      "Epoch 168/200\n",
      "750/750 [==============================] - 3s 4ms/step - loss: 0.5275 - accuracy: 0.7795\n",
      "Epoch 169/200\n",
      "750/750 [==============================] - 4s 5ms/step - loss: 0.5275 - accuracy: 0.7795\n",
      "Epoch 170/200\n",
      "750/750 [==============================] - 3s 4ms/step - loss: 0.5275 - accuracy: 0.7795\n",
      "Epoch 171/200\n",
      "750/750 [==============================] - 3s 4ms/step - loss: 0.5275 - accuracy: 0.7795\n",
      "Epoch 172/200\n",
      "750/750 [==============================] - 2s 3ms/step - loss: 0.5275 - accuracy: 0.7795\n",
      "Epoch 173/200\n",
      "750/750 [==============================] - 1s 2ms/step - loss: 0.5275 - accuracy: 0.7795\n",
      "Epoch 174/200\n",
      "750/750 [==============================] - 1s 2ms/step - loss: 0.5275 - accuracy: 0.7795\n",
      "Epoch 175/200\n",
      "750/750 [==============================] - 1s 2ms/step - loss: 0.5275 - accuracy: 0.7795\n",
      "Epoch 176/200\n",
      "750/750 [==============================] - 1s 1ms/step - loss: 0.5275 - accuracy: 0.7795\n",
      "Epoch 177/200\n",
      "750/750 [==============================] - 1s 2ms/step - loss: 0.5275 - accuracy: 0.7795\n",
      "Epoch 178/200\n",
      "750/750 [==============================] - 1s 2ms/step - loss: 0.5275 - accuracy: 0.7795\n",
      "Epoch 179/200\n",
      "750/750 [==============================] - 2s 2ms/step - loss: 0.5275 - accuracy: 0.7795\n",
      "Epoch 180/200\n",
      "750/750 [==============================] - 1s 2ms/step - loss: 0.5275 - accuracy: 0.7795\n",
      "Epoch 181/200\n",
      "750/750 [==============================] - 1s 1ms/step - loss: 0.5275 - accuracy: 0.7795\n",
      "Epoch 182/200\n",
      "750/750 [==============================] - 1s 2ms/step - loss: 0.5275 - accuracy: 0.7795\n",
      "Epoch 183/200\n",
      "750/750 [==============================] - 1s 2ms/step - loss: 0.5275 - accuracy: 0.7795\n",
      "Epoch 184/200\n",
      "750/750 [==============================] - 1s 2ms/step - loss: 0.5275 - accuracy: 0.7795\n",
      "Epoch 185/200\n",
      "750/750 [==============================] - 1s 1ms/step - loss: 0.5275 - accuracy: 0.7795\n",
      "Epoch 186/200\n",
      "750/750 [==============================] - 1s 2ms/step - loss: 0.5275 - accuracy: 0.7795\n",
      "Epoch 187/200\n",
      "750/750 [==============================] - 1s 2ms/step - loss: 0.5275 - accuracy: 0.7795\n",
      "Epoch 188/200\n",
      "750/750 [==============================] - 2s 2ms/step - loss: 0.5275 - accuracy: 0.7795\n",
      "Epoch 189/200\n",
      "750/750 [==============================] - 3s 3ms/step - loss: 0.5275 - accuracy: 0.7795\n",
      "Epoch 190/200\n",
      "750/750 [==============================] - 2s 3ms/step - loss: 0.5275 - accuracy: 0.7795\n",
      "Epoch 191/200\n",
      "750/750 [==============================] - 2s 3ms/step - loss: 0.5275 - accuracy: 0.7795\n",
      "Epoch 192/200\n",
      "750/750 [==============================] - 2s 2ms/step - loss: 0.5275 - accuracy: 0.7795\n",
      "Epoch 193/200\n",
      "750/750 [==============================] - 1s 2ms/step - loss: 0.5275 - accuracy: 0.7795\n",
      "Epoch 194/200\n",
      "750/750 [==============================] - 1s 2ms/step - loss: 0.5275 - accuracy: 0.7795\n",
      "Epoch 195/200\n",
      "750/750 [==============================] - 1s 2ms/step - loss: 0.5275 - accuracy: 0.7795\n",
      "Epoch 196/200\n",
      "750/750 [==============================] - 2s 3ms/step - loss: 0.5275 - accuracy: 0.7795\n",
      "Epoch 197/200\n",
      "750/750 [==============================] - 3s 4ms/step - loss: 0.5275 - accuracy: 0.7795\n",
      "Epoch 198/200\n",
      "750/750 [==============================] - 2s 3ms/step - loss: 0.5275 - accuracy: 0.7795\n",
      "Epoch 199/200\n",
      "750/750 [==============================] - 2s 2ms/step - loss: 0.5275 - accuracy: 0.7795\n",
      "Epoch 200/200\n",
      "750/750 [==============================] - 1s 2ms/step - loss: 0.5275 - accuracy: 0.7795\n"
     ]
    },
    {
     "data": {
      "text/plain": [
       "<keras.callbacks.History at 0x269625d4340>"
      ]
     },
     "execution_count": 25,
     "metadata": {},
     "output_type": "execute_result"
    }
   ],
   "source": [
    "# fit predict and evaluate \n",
    "model.fit(X_train, y_train, epochs=200, batch_size=32)"
   ]
  },
  {
   "cell_type": "code",
   "execution_count": 26,
   "id": "6d9a0071",
   "metadata": {},
   "outputs": [
    {
     "name": "stdout",
     "output_type": "stream",
     "text": [
      "188/188 [==============================] - 1s 4ms/step\n"
     ]
    }
   ],
   "source": [
    "y_hat = model.predict(X_test)\n",
    "y_hat = [0 if val < 0.5 else 1 for val in y_hat]"
   ]
  },
  {
   "cell_type": "code",
   "execution_count": 27,
   "id": "df4018ea",
   "metadata": {},
   "outputs": [
    {
     "data": {
      "text/plain": [
       "0.776"
      ]
     },
     "execution_count": 27,
     "metadata": {},
     "output_type": "execute_result"
    }
   ],
   "source": [
    "# Calculating the accuracy score of the model \n",
    "accuracy_score(y_test, y_hat)\n"
   ]
  },
  {
   "cell_type": "code",
   "execution_count": 28,
   "id": "2729aa78",
   "metadata": {},
   "outputs": [
    {
     "name": "stdout",
     "output_type": "stream",
     "text": [
      "INFO:tensorflow:Assets written to: tfmodel\\assets\n"
     ]
    }
   ],
   "source": [
    "# save and load the model \n",
    "model.save('tfmodel')\n"
   ]
  }
 ],
 "metadata": {
  "kernelspec": {
   "display_name": "Python 3 (ipykernel)",
   "language": "python",
   "name": "python3"
  },
  "language_info": {
   "codemirror_mode": {
    "name": "ipython",
    "version": 3
   },
   "file_extension": ".py",
   "mimetype": "text/x-python",
   "name": "python",
   "nbconvert_exporter": "python",
   "pygments_lexer": "ipython3",
   "version": "3.9.4"
  }
 },
 "nbformat": 4,
 "nbformat_minor": 5
}
